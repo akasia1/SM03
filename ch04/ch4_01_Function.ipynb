{
  "nbformat": 4,
  "nbformat_minor": 0,
  "metadata": {
    "colab": {
      "name": "ch4_01_Function.ipynb",
      "provenance": [],
      "include_colab_link": true
    },
    "kernelspec": {
      "name": "python3",
      "display_name": "Python 3"
    }
  },
  "cells": [
    {
      "cell_type": "markdown",
      "metadata": {
        "id": "view-in-github",
        "colab_type": "text"
      },
      "source": [
        "<a href=\"https://colab.research.google.com/github/akasia1/SM03/blob/master/ch04/ch4_01_Function.ipynb\" target=\"_parent\"><img src=\"https://colab.research.google.com/assets/colab-badge.svg\" alt=\"Open In Colab\"/></a>"
      ]
    },
    {
      "cell_type": "markdown",
      "metadata": {
        "id": "kx2xwt6moPuG",
        "colab_type": "text"
      },
      "source": [
        "##함수란 무엇인가?"
      ]
    },
    {
      "cell_type": "markdown",
      "metadata": {
        "id": "0ruLT6R6oVzZ",
        "colab_type": "text"
      },
      "source": [
        "입력값을 가지고 어떤 일을 수행한 다음에 \n",
        "그 결과물을 내어놓는 것\n"
      ]
    },
    {
      "cell_type": "code",
      "metadata": {
        "id": "86VDQtVoP1tR",
        "colab_type": "code",
        "colab": {}
      },
      "source": [
        "함수를 사용하는 이유는 무엇일까?\n",
        " 반복되는 부분을 함수로 전환.\n",
        " 코딩을 모듈화\n"
      ],
      "execution_count": 0,
      "outputs": []
    },
    {
      "cell_type": "code",
      "metadata": {
        "id": "_J4onG3fP8-n",
        "colab_type": "code",
        "colab": {}
      },
      "source": [
        "파이썬 함수의 구조\n",
        "\n",
        "\"\"\"\n",
        "def 함수명(매개변수):\n",
        "    <수행할 문장1>\n",
        "    <수행할 문장2>\n",
        "    ...\n",
        "\"\"\""
      ],
      "execution_count": 0,
      "outputs": []
    },
    {
      "cell_type": "code",
      "metadata": {
        "id": "CNP4-gygQCSX",
        "colab_type": "code",
        "colab": {}
      },
      "source": [
        "# add() 함수를 정의\n",
        "def add(a, b): \n",
        "    return a + b\n",
        "  \n"
      ],
      "execution_count": 0,
      "outputs": []
    },
    {
      "cell_type": "code",
      "metadata": {
        "id": "eKbXFKnQQFbv",
        "colab_type": "code",
        "colab": {
          "base_uri": "https://localhost:8080/",
          "height": 35
        },
        "outputId": "97cc8169-4114-4ef9-e78b-2e0b317f3045"
      },
      "source": [
        "add(2,3)\n"
      ],
      "execution_count": 3,
      "outputs": [
        {
          "output_type": "execute_result",
          "data": {
            "text/plain": [
              "5"
            ]
          },
          "metadata": {
            "tags": []
          },
          "execution_count": 3
        }
      ]
    },
    {
      "cell_type": "code",
      "metadata": {
        "id": "YmC91amcQQr0",
        "colab_type": "code",
        "colab": {
          "base_uri": "https://localhost:8080/",
          "height": 35
        },
        "outputId": "73cb31da-8532-4192-a49a-8fd3d414629e"
      },
      "source": [
        "add('IJU',' comsi')"
      ],
      "execution_count": 5,
      "outputs": [
        {
          "output_type": "execute_result",
          "data": {
            "text/plain": [
              "'IJU comsi'"
            ]
          },
          "metadata": {
            "tags": []
          },
          "execution_count": 5
        }
      ]
    },
    {
      "cell_type": "code",
      "metadata": {
        "id": "biH98dG0QWgn",
        "colab_type": "code",
        "colab": {}
      },
      "source": [
        ""
      ],
      "execution_count": 0,
      "outputs": []
    },
    {
      "cell_type": "code",
      "metadata": {
        "id": "qeSkr3rOQbMX",
        "colab_type": "code",
        "colab": {
          "base_uri": "https://localhost:8080/",
          "height": 35
        },
        "outputId": "4cc35f3a-f62d-4e62-e75a-c6dc5dd6dd22"
      },
      "source": [
        "# add() 함수를 사용\n",
        "a=3\n",
        "b=4\n",
        "c=add(a,b)\n",
        "print(c)"
      ],
      "execution_count": 6,
      "outputs": [
        {
          "output_type": "stream",
          "text": [
            "7\n"
          ],
          "name": "stdout"
        }
      ]
    },
    {
      "cell_type": "code",
      "metadata": {
        "id": "G76RY772Qhh_",
        "colab_type": "code",
        "colab": {
          "base_uri": "https://localhost:8080/",
          "height": 35
        },
        "outputId": "c5956928-262c-48e5-beb5-4a35acb0f6d8"
      },
      "source": [
        "x=[1,2,3]\n",
        "y=[4,5,6]\n",
        "z=x+y\n",
        "print(z)\n"
      ],
      "execution_count": 7,
      "outputs": [
        {
          "output_type": "stream",
          "text": [
            "[1, 2, 3, 4, 5, 6]\n"
          ],
          "name": "stdout"
        }
      ]
    },
    {
      "cell_type": "markdown",
      "metadata": {
        "id": "gfVm8_2UQyNv",
        "colab_type": "text"
      },
      "source": [
        "print(\"매개변수와 인수의 차이를 이해하자!\")\n",
        "\n",
        " 1.매개변수는 함수에 입력으로 전달된 값을 받는 변수\n",
        "\n",
        "2.인수는 함수를 호출할 때 전달하는 입력값을 의미\n",
        "\n",
        " add() 함수에서의 매개변수와 인수\n",
        "\"\"\"\n",
        "def add(a, b):  # a, b는 매개변수\n",
        "    return a+b\n",
        "\n",
        "print(add(3, 4))  # 3, 4는 인수\n",
        "\n",
        "\"\"\""
      ]
    },
    {
      "cell_type": "code",
      "metadata": {
        "id": "HWMRrgnpQ11_",
        "colab_type": "code",
        "colab": {}
      },
      "source": [
        "def add2(a, b): \n",
        "    result = a + b \n",
        "    return result"
      ],
      "execution_count": 0,
      "outputs": []
    },
    {
      "cell_type": "code",
      "metadata": {
        "id": "LeIgY693RMEP",
        "colab_type": "code",
        "colab": {
          "base_uri": "https://localhost:8080/",
          "height": 35
        },
        "outputId": "02a93f87-4513-4d59-d3be-5b515df08597"
      },
      "source": [
        "a= add2(3,4)\n",
        "print(a)"
      ],
      "execution_count": 9,
      "outputs": [
        {
          "output_type": "stream",
          "text": [
            "7\n"
          ],
          "name": "stdout"
        }
      ]
    },
    {
      "cell_type": "code",
      "metadata": {
        "id": "Nlaef0cVRSQQ",
        "colab_type": "code",
        "colab": {}
      },
      "source": [
        "def say(): \n",
        "    return 'Hi'"
      ],
      "execution_count": 0,
      "outputs": []
    },
    {
      "cell_type": "code",
      "metadata": {
        "id": "r2PdNxKbRWJ_",
        "colab_type": "code",
        "colab": {
          "base_uri": "https://localhost:8080/",
          "height": 35
        },
        "outputId": "54998318-080d-4868-af47-7a034b35657a"
      },
      "source": [
        "a=say()\n",
        "print(a)"
      ],
      "execution_count": 12,
      "outputs": [
        {
          "output_type": "stream",
          "text": [
            "Hi\n"
          ],
          "name": "stdout"
        }
      ]
    },
    {
      "cell_type": "markdown",
      "metadata": {
        "id": "M29cnbEQRj8Z",
        "colab_type": "text"
      },
      "source": [
        "결괏값이 없는 함수"
      ]
    },
    {
      "cell_type": "code",
      "metadata": {
        "id": "x2b8dbtnRbbf",
        "colab_type": "code",
        "colab": {}
      },
      "source": [
        "def add3(a, b): \n",
        "    print(\"%d, %d의 합은 %d입니다.\" % (a, b, a+b))"
      ],
      "execution_count": 0,
      "outputs": []
    },
    {
      "cell_type": "markdown",
      "metadata": {
        "id": "8uDOswKpRvan",
        "colab_type": "text"
      },
      "source": [
        "결괏값이 없는 함수의 사용법\n",
        "\n",
        "함수이름(입력인수1, 입력인수2, ...)"
      ]
    },
    {
      "cell_type": "code",
      "metadata": {
        "id": "H_ptOCgnRqAA",
        "colab_type": "code",
        "colab": {
          "base_uri": "https://localhost:8080/",
          "height": 71
        },
        "outputId": "c6fa6ec0-59ae-43fd-b295-bb8d3b3e9bc5"
      },
      "source": [
        "add3(3, 4)\n",
        "\n",
        "# 다음 결과는 무엇인가?\n",
        "a = add3(3, 4)\n",
        "print(a)"
      ],
      "execution_count": 45,
      "outputs": [
        {
          "output_type": "stream",
          "text": [
            "3, 4의 합은 7입니다.\n",
            "3, 4의 합은 7입니다.\n",
            "None\n"
          ],
          "name": "stdout"
        }
      ]
    },
    {
      "cell_type": "markdown",
      "metadata": {
        "id": "HuU4zc8RSDTH",
        "colab_type": "text"
      },
      "source": [
        "매개변수의 값을 지정하여 호출하기"
      ]
    },
    {
      "cell_type": "code",
      "metadata": {
        "id": "Gm0CWVpVR53Y",
        "colab_type": "code",
        "colab": {}
      },
      "source": [
        "def add4(a, b):\n",
        "    return a+b"
      ],
      "execution_count": 0,
      "outputs": []
    },
    {
      "cell_type": "code",
      "metadata": {
        "id": "vPNSUcDCSHxj",
        "colab_type": "code",
        "colab": {
          "base_uri": "https://localhost:8080/",
          "height": 35
        },
        "outputId": "16e74303-f0f5-4479-f94c-6b980f8cfd2c"
      },
      "source": [
        "result = add4(a=3, b=7)  # a에 3, b에 7을 전달\n",
        "print(result)"
      ],
      "execution_count": 17,
      "outputs": [
        {
          "output_type": "stream",
          "text": [
            "10\n"
          ],
          "name": "stdout"
        }
      ]
    },
    {
      "cell_type": "code",
      "metadata": {
        "id": "P2FHQayzSKjn",
        "colab_type": "code",
        "colab": {
          "base_uri": "https://localhost:8080/",
          "height": 35
        },
        "outputId": "5be94a30-f5ec-43b5-d69b-90ba0c17b346"
      },
      "source": [
        "result = add4(b=5, a=3)  # b에 5, a에 3을 전달\n",
        "print(result)"
      ],
      "execution_count": 18,
      "outputs": [
        {
          "output_type": "stream",
          "text": [
            "8\n"
          ],
          "name": "stdout"
        }
      ]
    },
    {
      "cell_type": "markdown",
      "metadata": {
        "id": "JdmFkGYYo5_2",
        "colab_type": "text"
      },
      "source": [
        "매개변수의 값을 최기화 하여 호출하기"
      ]
    },
    {
      "cell_type": "code",
      "metadata": {
        "id": "scvY1TGOSg3f",
        "colab_type": "code",
        "colab": {}
      },
      "source": [
        "def add5(a, b):\n",
        "    return a+b"
      ],
      "execution_count": 0,
      "outputs": []
    },
    {
      "cell_type": "code",
      "metadata": {
        "id": "EH3F06H_SjE_",
        "colab_type": "code",
        "colab": {
          "base_uri": "https://localhost:8080/",
          "height": 172
        },
        "outputId": "13535dab-6a71-4c1a-c577-1a31d1680a79"
      },
      "source": [
        "add5()"
      ],
      "execution_count": 47,
      "outputs": [
        {
          "output_type": "error",
          "ename": "TypeError",
          "evalue": "ignored",
          "traceback": [
            "\u001b[0;31m---------------------------------------------------------------------------\u001b[0m",
            "\u001b[0;31mTypeError\u001b[0m                                 Traceback (most recent call last)",
            "\u001b[0;32m<ipython-input-47-7e04c95c70b7>\u001b[0m in \u001b[0;36m<module>\u001b[0;34m()\u001b[0m\n\u001b[0;32m----> 1\u001b[0;31m \u001b[0madd5\u001b[0m\u001b[0;34m(\u001b[0m\u001b[0;34m)\u001b[0m\u001b[0;34m\u001b[0m\u001b[0;34m\u001b[0m\u001b[0m\n\u001b[0m",
            "\u001b[0;31mTypeError\u001b[0m: add5() missing 2 required positional arguments: 'a' and 'b'"
          ]
        }
      ]
    },
    {
      "cell_type": "markdown",
      "metadata": {
        "id": "uUNVuXd1psTF",
        "colab_type": "text"
      },
      "source": [
        "입력값이 몇 개가 될지 모를 때는 어떻게 해야 할까?"
      ]
    },
    {
      "cell_type": "code",
      "metadata": {
        "id": "zVaooebsSwBI",
        "colab_type": "code",
        "colab": {
          "base_uri": "https://localhost:8080/",
          "height": 35
        },
        "outputId": "798f02f1-9bc1-4b24-8b04-e06d68f0185c"
      },
      "source": [
        "\"\"\"\n",
        "def 함수이름(*매개변수): \n",
        "    <수행할 문장>\n",
        "    ...\n",
        "\"\"\"\n",
        "\n",
        "def add_many(*args):\n",
        "    result = 0 \n",
        "    for i in args: \n",
        "        result = result + i \n",
        "    return result "
      ],
      "execution_count": 22,
      "outputs": [
        {
          "output_type": "stream",
          "text": [
            "입력값이 몇 개가 될지 모를 때는 어떻게 해야 할까?\n"
          ],
          "name": "stdout"
        }
      ]
    },
    {
      "cell_type": "code",
      "metadata": {
        "id": "bLiZKYbOTKUn",
        "colab_type": "code",
        "colab": {
          "base_uri": "https://localhost:8080/",
          "height": 35
        },
        "outputId": "41c91831-e5f3-422f-fea3-78710510f585"
      },
      "source": [
        "add_many(1, 2, 3)"
      ],
      "execution_count": 23,
      "outputs": [
        {
          "output_type": "execute_result",
          "data": {
            "text/plain": [
              "6"
            ]
          },
          "metadata": {
            "tags": []
          },
          "execution_count": 23
        }
      ]
    },
    {
      "cell_type": "code",
      "metadata": {
        "id": "I84o9l_mTb7X",
        "colab_type": "code",
        "colab": {
          "base_uri": "https://localhost:8080/",
          "height": 35
        },
        "outputId": "032de7fa-bc17-4841-c44e-6a7f0c54157d"
      },
      "source": [
        "add_many(1, 2, 3, 4, 5, 6, 7, 8, 9)"
      ],
      "execution_count": 24,
      "outputs": [
        {
          "output_type": "execute_result",
          "data": {
            "text/plain": [
              "45"
            ]
          },
          "metadata": {
            "tags": []
          },
          "execution_count": 24
        }
      ]
    },
    {
      "cell_type": "code",
      "metadata": {
        "id": "E7DBHnWRTgZA",
        "colab_type": "code",
        "colab": {
          "base_uri": "https://localhost:8080/",
          "height": 35
        },
        "outputId": "dfe2eb55-3d8b-4aeb-9b75-8d6aa8984da8"
      },
      "source": [
        "result = add_many(1,2,3,4,5,6,7,8,9,10)\n",
        "print(result)"
      ],
      "execution_count": 25,
      "outputs": [
        {
          "output_type": "stream",
          "text": [
            "55\n"
          ],
          "name": "stdout"
        }
      ]
    },
    {
      "cell_type": "markdown",
      "metadata": {
        "id": "bO3TFgqDp2vV",
        "colab_type": "text"
      },
      "source": [
        "여러 개의 입력을 처리하는 함수(*args)\n"
      ]
    },
    {
      "cell_type": "code",
      "metadata": {
        "id": "sx633q6hTm__",
        "colab_type": "code",
        "colab": {
          "base_uri": "https://localhost:8080/",
          "height": 35
        },
        "outputId": "16cdb472-1fe1-4d06-d4ac-4e4189854526"
      },
      "source": [
        "def add_mul(choice, *args):\n",
        "    if choice == \"add\":\n",
        "        result = 0 \n",
        "        for i in args:\n",
        "            result = result + i \n",
        "    elif choice == \"mul\":\n",
        "        result = 1 \n",
        "        for i in args: \n",
        "            result = result * i \n",
        "    return result "
      ],
      "execution_count": 26,
      "outputs": [
        {
          "output_type": "stream",
          "text": [
            "여러 개의 입력을 처리하는 함수(*args)\n"
          ],
          "name": "stdout"
        }
      ]
    },
    {
      "cell_type": "code",
      "metadata": {
        "id": "6OOuB6uvTxr3",
        "colab_type": "code",
        "colab": {
          "base_uri": "https://localhost:8080/",
          "height": 35
        },
        "outputId": "09015926-ae13-40d3-a11a-3d2b19711d43"
      },
      "source": [
        "# add\n",
        "result = add_mul('add', 1,2,3,4,5)\n",
        "print(result)"
      ],
      "execution_count": 27,
      "outputs": [
        {
          "output_type": "stream",
          "text": [
            "15\n"
          ],
          "name": "stdout"
        }
      ]
    },
    {
      "cell_type": "code",
      "metadata": {
        "id": "zuE6BeNaUBpP",
        "colab_type": "code",
        "colab": {
          "base_uri": "https://localhost:8080/",
          "height": 35
        },
        "outputId": "c68033f0-f705-4c2c-fba6-ae884baf2048"
      },
      "source": [
        "# multiply\n",
        "result = add_mul('mul', 1,2,3,4,5)\n",
        "print(result)"
      ],
      "execution_count": 28,
      "outputs": [
        {
          "output_type": "stream",
          "text": [
            "120\n"
          ],
          "name": "stdout"
        }
      ]
    },
    {
      "cell_type": "markdown",
      "metadata": {
        "id": "ISpmVqvnp-h9",
        "colab_type": "text"
      },
      "source": [
        "키워드 파라미터 kwargs\n"
      ]
    },
    {
      "cell_type": "code",
      "metadata": {
        "id": "wvR9ELJLUGOA",
        "colab_type": "code",
        "colab": {}
      },
      "source": [
        "def print_kwargs(**kwargs):\n",
        "    print(kwargs)\n"
      ],
      "execution_count": 0,
      "outputs": []
    },
    {
      "cell_type": "code",
      "metadata": {
        "id": "Ljd5bBVJULR_",
        "colab_type": "code",
        "colab": {
          "base_uri": "https://localhost:8080/",
          "height": 35
        },
        "outputId": "cd5d3e25-bb2c-4141-aac8-e8766b3ccd5b"
      },
      "source": [
        "# print_kwargs 함수는 매개변수 kwargs를 출력하는 함수\n",
        "#\n",
        "print_kwargs(a=1)"
      ],
      "execution_count": 49,
      "outputs": [
        {
          "output_type": "stream",
          "text": [
            "{'a': 1}\n"
          ],
          "name": "stdout"
        }
      ]
    },
    {
      "cell_type": "code",
      "metadata": {
        "id": "0bpJpxrsUOio",
        "colab_type": "code",
        "colab": {
          "base_uri": "https://localhost:8080/",
          "height": 35
        },
        "outputId": "bd9c5b15-50de-4816-e60e-054b007d2bcd"
      },
      "source": [
        "print_kwargs(name='foo', age=3)\n"
      ],
      "execution_count": 31,
      "outputs": [
        {
          "output_type": "stream",
          "text": [
            "{'name': 'foo', 'age': 3}\n"
          ],
          "name": "stdout"
        }
      ]
    },
    {
      "cell_type": "markdown",
      "metadata": {
        "id": "QEomYy6IUXmo",
        "colab_type": "text"
      },
      "source": [
        "**kwargs처럼 매개변수 이름 앞에 **을 붙이면\n",
        "\n",
        "매개변수 \n",
        " kwargs는 딕셔너리가 되고 \n",
        " \n",
        " 모든 key=value 형태의 결괏값이 \n",
        "그 딕셔너리에 저장된다."
      ]
    },
    {
      "cell_type": "markdown",
      "metadata": {
        "id": "Btx2LMAOqNL9",
        "colab_type": "text"
      },
      "source": [
        "함수의 결괏값은 언제나 하나"
      ]
    },
    {
      "cell_type": "code",
      "metadata": {
        "id": "fbDgOoMVUXSP",
        "colab_type": "code",
        "colab": {}
      },
      "source": [
        "\n",
        "def add_and_mul(a,b): \n",
        "    return a+b, a*b"
      ],
      "execution_count": 0,
      "outputs": []
    },
    {
      "cell_type": "code",
      "metadata": {
        "id": "MGzNd5BHUTpA",
        "colab_type": "code",
        "colab": {
          "base_uri": "https://localhost:8080/",
          "height": 35
        },
        "outputId": "b7a56d8d-1091-4ee0-bec1-bb9cca6c27c9"
      },
      "source": [
        "# add_and_mul() 사용 1.\n",
        "result = add_and_mul(3,4)\n",
        "\n",
        "print(result)"
      ],
      "execution_count": 33,
      "outputs": [
        {
          "output_type": "stream",
          "text": [
            "(7, 12)\n"
          ],
          "name": "stdout"
        }
      ]
    },
    {
      "cell_type": "code",
      "metadata": {
        "id": "MJZn0ZzTUoLA",
        "colab_type": "code",
        "colab": {
          "base_uri": "https://localhost:8080/",
          "height": 35
        },
        "outputId": "40cd37fb-4568-4748-9f6e-921f30aa92f1"
      },
      "source": [
        "# add_and_mul() 사용 2.\n",
        "result1, result2 = add_and_mul(3, 4)\n",
        "\n",
        "result1, result2"
      ],
      "execution_count": 34,
      "outputs": [
        {
          "output_type": "execute_result",
          "data": {
            "text/plain": [
              "(7, 12)"
            ]
          },
          "metadata": {
            "tags": []
          },
          "execution_count": 34
        }
      ]
    },
    {
      "cell_type": "code",
      "metadata": {
        "id": "UFBhzopIUvI4",
        "colab_type": "code",
        "colab": {}
      },
      "source": [
        "print(\"잘못된 함수\")\n",
        "#######################################\n",
        "def add_and_mul2(a,b): \n",
        "    return a+b \n",
        "    return a*b  # Not working!!\n",
        "\n",
        "\n",
        "result = add_and_mul2(2, 3)\n",
        "print(result)\n"
      ],
      "execution_count": 0,
      "outputs": []
    },
    {
      "cell_type": "code",
      "metadata": {
        "id": "y14l4-UbVL93",
        "colab_type": "code",
        "colab": {
          "base_uri": "https://localhost:8080/",
          "height": 35
        },
        "outputId": "d78484ca-f199-4835-a703-c5e06ebd29ac"
      },
      "source": [
        "print(\"return 의 용도: 함수 실행 종료\")\n",
        "#######################################\n",
        "def say_nick(nick): \n",
        "    if nick == \"바보\": \n",
        "        return \n",
        "    print(\"나의 별명은 %s 입니다.\" % nick)\n",
        "\n"
      ],
      "execution_count": 35,
      "outputs": [
        {
          "output_type": "stream",
          "text": [
            "return 의 용도: 함수 실행 종료\n"
          ],
          "name": "stdout"
        }
      ]
    },
    {
      "cell_type": "code",
      "metadata": {
        "id": "Cjm0fnxjVhLY",
        "colab_type": "code",
        "colab": {
          "base_uri": "https://localhost:8080/",
          "height": 35
        },
        "outputId": "64c57380-e4e3-4303-e905-2a70f5cd2df3"
      },
      "source": [
        "say_nick(\"홍길동\")"
      ],
      "execution_count": 36,
      "outputs": [
        {
          "output_type": "stream",
          "text": [
            "나의 별명은 홍길동 입니다.\n"
          ],
          "name": "stdout"
        }
      ]
    },
    {
      "cell_type": "code",
      "metadata": {
        "id": "DuMrNLfeVhEv",
        "colab_type": "code",
        "colab": {}
      },
      "source": [
        "say_nick(\"바보\")"
      ],
      "execution_count": 0,
      "outputs": []
    },
    {
      "cell_type": "markdown",
      "metadata": {
        "id": "iWkUboMAqUrG",
        "colab_type": "text"
      },
      "source": [
        "매개변수에 초깃값 미리 설정하기"
      ]
    },
    {
      "cell_type": "code",
      "metadata": {
        "id": "II23pLdlVplI",
        "colab_type": "code",
        "colab": {
          "base_uri": "https://localhost:8080/",
          "height": 35
        },
        "outputId": "362584e6-266e-487d-9b3c-d886c9a9d31a"
      },
      "source": [
        "\n",
        "def say_myself(name, old, man=True): \n",
        "    print(\"나의 이름은 %s 입니다.\" % name) \n",
        "    print(\"나이는 %d살입니다.\" % old) \n",
        "    if man: \n",
        "        print(\"남자입니다.\")\n",
        "    else: \n",
        "        print(\"여자입니다.\")"
      ],
      "execution_count": 39,
      "outputs": [
        {
          "output_type": "stream",
          "text": [
            "매개변수에 초깃값 미리 설정하기\n"
          ],
          "name": "stdout"
        }
      ]
    },
    {
      "cell_type": "code",
      "metadata": {
        "id": "th0sYhrcVtpW",
        "colab_type": "code",
        "colab": {
          "base_uri": "https://localhost:8080/",
          "height": 71
        },
        "outputId": "f1285e1c-cea9-437d-d5b2-683b2c3c2c8e"
      },
      "source": [
        "say_myself(\"박응용\", 27)"
      ],
      "execution_count": 40,
      "outputs": [
        {
          "output_type": "stream",
          "text": [
            "나의 이름은 박응용 입니다.\n",
            "나이는 27살입니다.\n",
            "남자입니다.\n"
          ],
          "name": "stdout"
        }
      ]
    },
    {
      "cell_type": "code",
      "metadata": {
        "id": "rPCXdqXTVtkZ",
        "colab_type": "code",
        "colab": {
          "base_uri": "https://localhost:8080/",
          "height": 71
        },
        "outputId": "aea77f8d-6cbc-4cda-fc51-5191be9c6e11"
      },
      "source": [
        "say_myself(\"박응용\", 27, True)"
      ],
      "execution_count": 41,
      "outputs": [
        {
          "output_type": "stream",
          "text": [
            "나의 이름은 박응용 입니다.\n",
            "나이는 27살입니다.\n",
            "남자입니다.\n"
          ],
          "name": "stdout"
        }
      ]
    },
    {
      "cell_type": "code",
      "metadata": {
        "id": "GHM6oDolVtdQ",
        "colab_type": "code",
        "colab": {
          "base_uri": "https://localhost:8080/",
          "height": 71
        },
        "outputId": "835fec2c-17f2-4ddd-e0f4-758d6825e10a"
      },
      "source": [
        "say_myself(\"박응용\", 27, False)"
      ],
      "execution_count": 42,
      "outputs": [
        {
          "output_type": "stream",
          "text": [
            "나의 이름은 박응용 입니다.\n",
            "나이는 27살입니다.\n",
            "여자입니다.\n"
          ],
          "name": "stdout"
        }
      ]
    },
    {
      "cell_type": "markdown",
      "metadata": {
        "id": "9D3v_ZtyWUuo",
        "colab_type": "text"
      },
      "source": [
        "초깃값을 설정해 놓은 매개변수 뒤에 \n",
        "\n",
        "  초깃값을 설정해 놓지 않은 매개변수는 사용할 수 없다\n",
        "\n",
        "  초기화시키고 싶은 매개변수를 항상 뒤쪽에 놓는다"
      ]
    },
    {
      "cell_type": "markdown",
      "metadata": {
        "id": "DnbID917qdaE",
        "colab_type": "text"
      },
      "source": [
        "함수 안에서 선언한 변수의 효력 범위"
      ]
    },
    {
      "cell_type": "code",
      "metadata": {
        "id": "n1HxctY5V9rP",
        "colab_type": "code",
        "colab": {
          "base_uri": "https://localhost:8080/",
          "height": 35
        },
        "outputId": "bad7013f-83ed-4e5a-c02c-ee205aeb03cd"
      },
      "source": [
        "# 전역변수\n",
        "# 지역 변수, 자동 변수\n",
        "\n",
        "# vartest.py\n",
        "a = 1\n",
        "def vartest(a):\n",
        "    a = a +1\n",
        "\n",
        "vartest(a)\n",
        "print(a)"
      ],
      "execution_count": 55,
      "outputs": [
        {
          "output_type": "stream",
          "text": [
            "1\n"
          ],
          "name": "stdout"
        }
      ]
    },
    {
      "cell_type": "markdown",
      "metadata": {
        "id": "0i7rnc5dqkDu",
        "colab_type": "text"
      },
      "source": [
        "lambda"
      ]
    },
    {
      "cell_type": "code",
      "metadata": {
        "id": "QH626fkkYA14",
        "colab_type": "code",
        "colab": {
          "base_uri": "https://localhost:8080/",
          "height": 53
        },
        "outputId": "79e14564-dc93-47ac-c4a7-d952c525bd04"
      },
      "source": [
        "# lambda는 함수를 생성할 때 사용하는 예약어로 def와 동일한 역할을 한다. \n",
        "# 보통 함수를 한줄로 간결하게 만들 때 사용한다.\n",
        "#\n",
        "# lambda 사용법\n",
        "#\n",
        "# lambda 매개변수1, 매개변수2, ... : 매개변수를 이용한 표현식\n",
        "#\n",
        "print(\"lambda를 이용한 add 함수\")\n",
        "\n",
        "add = lambda a, b: a+b\n",
        "\n",
        "result = add(3, 4)\n",
        "print(result)\n"
      ],
      "execution_count": 51,
      "outputs": [
        {
          "output_type": "stream",
          "text": [
            "lambda를 이용한 add 함수\n",
            "7\n"
          ],
          "name": "stdout"
        }
      ]
    },
    {
      "cell_type": "code",
      "metadata": {
        "id": "1Cfa2UpnqppL",
        "colab_type": "code",
        "colab": {}
      },
      "source": [
        ""
      ],
      "execution_count": 0,
      "outputs": []
    }
  ]
}