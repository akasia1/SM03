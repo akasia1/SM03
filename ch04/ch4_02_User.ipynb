{
  "nbformat": 4,
  "nbformat_minor": 0,
  "metadata": {
    "colab": {
      "name": "ch4_02_User.ipynb",
      "provenance": [],
      "include_colab_link": true
    },
    "kernelspec": {
      "name": "python3",
      "display_name": "Python 3"
    }
  },
  "cells": [
    {
      "cell_type": "markdown",
      "metadata": {
        "id": "view-in-github",
        "colab_type": "text"
      },
      "source": [
        "<a href=\"https://colab.research.google.com/github/akasia1/SM03/blob/master/ch04/ch4_02_User.ipynb\" target=\"_parent\"><img src=\"https://colab.research.google.com/assets/colab-badge.svg\" alt=\"Open In Colab\"/></a>"
      ]
    },
    {
      "cell_type": "markdown",
      "metadata": {
        "id": "STnSqfSwrkEd",
        "colab_type": "text"
      },
      "source": [
        "##사용자 입력과 출력"
      ]
    },
    {
      "cell_type": "markdown",
      "metadata": {
        "id": "a14ddAObrj59",
        "colab_type": "text"
      },
      "source": [
        "사용자 입력\n",
        "input의 사용\n"
      ]
    },
    {
      "cell_type": "code",
      "metadata": {
        "id": "VfhSfG_9rDvx",
        "colab_type": "code",
        "colab": {
          "base_uri": "https://localhost:8080/",
          "height": 53
        },
        "outputId": "f0508e11-c6c5-4850-ddff-eef907ea5a5e"
      },
      "source": [
        "a = input(\"put in the word whatever you want: \")\n",
        "\n",
        "print(a)"
      ],
      "execution_count": 6,
      "outputs": [
        {
          "output_type": "stream",
          "text": [
            "put in the word whatever you want: Hi python\n",
            "Hi python\n"
          ],
          "name": "stdout"
        }
      ]
    },
    {
      "cell_type": "markdown",
      "metadata": {
        "id": "t8wNpKFvsSNv",
        "colab_type": "text"
      },
      "source": [
        "pinrt 사용"
      ]
    },
    {
      "cell_type": "code",
      "metadata": {
        "id": "OTRiTWiVrLWu",
        "colab_type": "code",
        "colab": {
          "base_uri": "https://localhost:8080/",
          "height": 35
        },
        "outputId": "849d5fc4-c832-442e-d8fa-ca90521270eb"
      },
      "source": [
        "a = 123\n",
        "print(a)"
      ],
      "execution_count": 7,
      "outputs": [
        {
          "output_type": "stream",
          "text": [
            "123\n"
          ],
          "name": "stdout"
        }
      ]
    },
    {
      "cell_type": "code",
      "metadata": {
        "id": "p2ExkC3usW28",
        "colab_type": "code",
        "colab": {
          "base_uri": "https://localhost:8080/",
          "height": 35
        },
        "outputId": "3a2e2243-fcbd-476f-cba1-7f17396313b2"
      },
      "source": [
        "a = \"Python\"\n",
        "print(a)"
      ],
      "execution_count": 8,
      "outputs": [
        {
          "output_type": "stream",
          "text": [
            "Python\n"
          ],
          "name": "stdout"
        }
      ]
    },
    {
      "cell_type": "code",
      "metadata": {
        "id": "eM9LOcYdsY1c",
        "colab_type": "code",
        "colab": {
          "base_uri": "https://localhost:8080/",
          "height": 35
        },
        "outputId": "6219b659-3736-4403-f2b7-96c2dad64676"
      },
      "source": [
        "a = [1, 2, 3]\n",
        "print(a)"
      ],
      "execution_count": 9,
      "outputs": [
        {
          "output_type": "stream",
          "text": [
            "[1, 2, 3]\n"
          ],
          "name": "stdout"
        }
      ]
    },
    {
      "cell_type": "markdown",
      "metadata": {
        "id": "DtKdWsHXsci9",
        "colab_type": "text"
      },
      "source": [
        "큰따옴표로 둘러싸인 문자열은 연산과 동일"
      ]
    },
    {
      "cell_type": "code",
      "metadata": {
        "id": "E4gPdWNhsbi-",
        "colab_type": "code",
        "colab": {
          "base_uri": "https://localhost:8080/",
          "height": 53
        },
        "outputId": "3317772d-344a-402e-ae93-de1855cad4b6"
      },
      "source": [
        "print(\"life\" \"is\" \"too short\")\n",
        "print(\"life\"+\"is\"+\"too short\")"
      ],
      "execution_count": 10,
      "outputs": [
        {
          "output_type": "stream",
          "text": [
            "lifeistoo short\n",
            "lifeistoo short\n"
          ],
          "name": "stdout"
        }
      ]
    },
    {
      "cell_type": "markdown",
      "metadata": {
        "id": "SPJSnSsFsv60",
        "colab_type": "text"
      },
      "source": [
        "문자열 띄어쓰기는 콤마로 함"
      ]
    },
    {
      "cell_type": "code",
      "metadata": {
        "id": "aWkg-ogSstDd",
        "colab_type": "code",
        "colab": {
          "base_uri": "https://localhost:8080/",
          "height": 35
        },
        "outputId": "77e6d758-efe8-45b6-eade-92b379739d6b"
      },
      "source": [
        "print(\"life\", \"is\", \"too short\")"
      ],
      "execution_count": 11,
      "outputs": [
        {
          "output_type": "stream",
          "text": [
            "life is too short\n"
          ],
          "name": "stdout"
        }
      ]
    },
    {
      "cell_type": "markdown",
      "metadata": {
        "id": "oUU_O2k7s2Ls",
        "colab_type": "text"
      },
      "source": [
        "한줄에 결과값 출력하기"
      ]
    },
    {
      "cell_type": "code",
      "metadata": {
        "id": "w7uhW5tas0Ul",
        "colab_type": "code",
        "colab": {
          "base_uri": "https://localhost:8080/",
          "height": 35
        },
        "outputId": "74164044-e812-4aed-c400-7479cdf47cda"
      },
      "source": [
        "for i in range(10):\n",
        "    print(i, end=' ')"
      ],
      "execution_count": 12,
      "outputs": [
        {
          "output_type": "stream",
          "text": [
            "0 1 2 3 4 5 6 7 8 9 "
          ],
          "name": "stdout"
        }
      ]
    },
    {
      "cell_type": "code",
      "metadata": {
        "id": "OV3NoeHVs6hd",
        "colab_type": "code",
        "colab": {}
      },
      "source": [
        ""
      ],
      "execution_count": 0,
      "outputs": []
    }
  ]
}