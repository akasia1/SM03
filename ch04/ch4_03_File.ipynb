{
  "nbformat": 4,
  "nbformat_minor": 0,
  "metadata": {
    "colab": {
      "name": "ch4_03_File.ipynb",
      "provenance": [],
      "include_colab_link": true
    },
    "kernelspec": {
      "name": "python3",
      "display_name": "Python 3"
    }
  },
  "cells": [
    {
      "cell_type": "markdown",
      "metadata": {
        "id": "view-in-github",
        "colab_type": "text"
      },
      "source": [
        "<a href=\"https://colab.research.google.com/github/akasia1/SM03/blob/master/ch04/ch4_03_File.ipynb\" target=\"_parent\"><img src=\"https://colab.research.google.com/assets/colab-badge.svg\" alt=\"Open In Colab\"/></a>"
      ]
    },
    {
      "cell_type": "markdown",
      "metadata": {
        "id": "Shl3x2HqtHP1",
        "colab_type": "text"
      },
      "source": [
        "##파일 읽고 쓰기\n"
      ]
    },
    {
      "cell_type": "markdown",
      "metadata": {
        "id": "EOzVxkAltMk9",
        "colab_type": "text"
      },
      "source": [
        "파일 생성하기\n",
        "\n",
        " 파일 객체 = open(파일 이름, 파일 열기 모드)\n",
        "\n",
        " 파일열기모드\n",
        " \n",
        " r\t읽기모드 - 파일을 읽기만 할 때 사용\n",
        " \n",
        " \n",
        " \n",
        " w\t쓰기모드 - 파일에 내용을 쓸 때 사용\n",
        " \n",
        " \n",
        " \n",
        " a\t추가모드 - 파일의 마지막에 새로운 내용을 추가 시킬 때 사용\n"
      ]
    },
    {
      "cell_type": "code",
      "metadata": {
        "id": "IJ8igl5AtFGr",
        "colab_type": "code",
        "colab": {}
      },
      "source": [
        "f = open(\"새파일.txt\", \"w\")\n",
        "f.close()\n",
        "#'D:\\\\Portable\\\\vscode-portable\\\\data' 에 생성됨\n",
        "\n",
        "# import os\n",
        "# os.getcwd"
      ],
      "execution_count": 0,
      "outputs": []
    },
    {
      "cell_type": "code",
      "metadata": {
        "id": "mfSayD9XtZY9",
        "colab_type": "code",
        "colab": {}
      },
      "source": [
        "# 다른 폴더에 파일 생성\n",
        "\"\"\"\n",
        "f = open(\"C:/doit/새파일.txt\", 'w')\n",
        "f.close()\n",
        "\"\"\""
      ],
      "execution_count": 0,
      "outputs": []
    },
    {
      "cell_type": "markdown",
      "metadata": {
        "id": "vilzQwfGtmMB",
        "colab_type": "text"
      },
      "source": [
        "파일을 쓰기 모드로 열어 출력값 적기"
      ]
    },
    {
      "cell_type": "code",
      "metadata": {
        "id": "1Cjxiz0ttkul",
        "colab_type": "code",
        "colab": {
          "base_uri": "https://localhost:8080/",
          "height": 377
        },
        "outputId": "8cfc6f49-3083-4809-8b0b-de484101c6a1"
      },
      "source": [
        "# 프로그램의 출력값을 파일에 직접 써 보자.\n",
        "\n",
        "# 모니터에 출력\n",
        "for i in range(1, 11):\n",
        "    data = \"%d번째 줄입니다.\\n\" % i\n",
        "    print(data)"
      ],
      "execution_count": 2,
      "outputs": [
        {
          "output_type": "stream",
          "text": [
            "1번째 줄입니다.\n",
            "\n",
            "2번째 줄입니다.\n",
            "\n",
            "3번째 줄입니다.\n",
            "\n",
            "4번째 줄입니다.\n",
            "\n",
            "5번째 줄입니다.\n",
            "\n",
            "6번째 줄입니다.\n",
            "\n",
            "7번째 줄입니다.\n",
            "\n",
            "8번째 줄입니다.\n",
            "\n",
            "9번째 줄입니다.\n",
            "\n",
            "10번째 줄입니다.\n",
            "\n"
          ],
          "name": "stdout"
        }
      ]
    },
    {
      "cell_type": "code",
      "metadata": {
        "id": "pBnyXfo1uUnl",
        "colab_type": "code",
        "colab": {}
      },
      "source": [
        "# 파일에 기록(출력)\n",
        "# writedata.py\n",
        "f = open(\"./새파일.txt\", \"w\")\n",
        "for i in range(1, 20):\n",
        "    data = \"%d번째 줄입니다.\\n\" % i\n",
        "    f.write(data)\n",
        "\n",
        "\n",
        "f.close()\n"
      ],
      "execution_count": 0,
      "outputs": []
    },
    {
      "cell_type": "markdown",
      "metadata": {
        "id": "8sSY2wYLuas1",
        "colab_type": "text"
      },
      "source": [
        "출력 파일의 한글이 깨지면\n",
        "파일 > 기본설정 > 설정 > Files: Auto Guess Encoding 을 지정(check)"
      ]
    },
    {
      "cell_type": "markdown",
      "metadata": {
        "id": "mbge-BWzvNEl",
        "colab_type": "text"
      },
      "source": [
        "###파일 읽기\n",
        "\n",
        " 파일 객체 = open(파일 이름, 파일 열기 모드)\n",
        "\n",
        " 파일읽기\n",
        "readline() 함수 이용하기\n",
        "\n",
        "\n",
        "readlines 함수 사용하기\n",
        "\n",
        "\n",
        " read 함수 사용하기\n",
        "\n",
        " 1. readline() 함수\n",
        "\n",
        " readline_test.py"
      ]
    },
    {
      "cell_type": "code",
      "metadata": {
        "id": "DgBUowVxuYwd",
        "colab_type": "code",
        "colab": {}
      },
      "source": [
        "f = open(\"새파일.txt\", \"r\")\n",
        "line = f.readline()\n",
        "print(line)\n",
        "f.close()"
      ],
      "execution_count": 0,
      "outputs": []
    },
    {
      "cell_type": "code",
      "metadata": {
        "id": "f3ypz6TAvi4N",
        "colab_type": "code",
        "colab": {}
      },
      "source": [
        "# readline_all.py\n",
        "f = open(\"새파일.txt\", \"r\")\n",
        "while True:\n",
        "    line = f.readline()\n",
        "    if not line:\n",
        "        break\n",
        "    print(line)\n",
        "f.close()"
      ],
      "execution_count": 0,
      "outputs": []
    },
    {
      "cell_type": "code",
      "metadata": {
        "id": "Q8130Qj7vlWl",
        "colab_type": "code",
        "colab": {}
      },
      "source": [
        "# 사용자 입력을 이용한 화면 출력\n",
        "while 1:\n",
        "    data = input()\n",
        "    if not data:\n",
        "        break\n",
        "    print(data)"
      ],
      "execution_count": 0,
      "outputs": []
    },
    {
      "cell_type": "code",
      "metadata": {
        "id": "K1DKybgIvm5d",
        "colab_type": "code",
        "colab": {}
      },
      "source": [
        "# 2. readlines() 함수\n",
        "f = open(\"새파일.txt\", \"r\")\n",
        "lines = f.readlines()\n",
        "for line in lines:\n",
        "    print(line)  # , end=\"\")\n",
        "f.close()"
      ],
      "execution_count": 0,
      "outputs": []
    },
    {
      "cell_type": "code",
      "metadata": {
        "id": "yUiZT27Uvq5F",
        "colab_type": "code",
        "colab": {}
      },
      "source": [
        "# 3. read() 함수\n",
        "f = open(\"새파일.txt\", \"r\")\n",
        "data = f.read()\n",
        "print(data)\n",
        "f.close()"
      ],
      "execution_count": 0,
      "outputs": []
    },
    {
      "cell_type": "markdown",
      "metadata": {
        "id": "jSSF3m12v13Z",
        "colab_type": "text"
      },
      "source": [
        "파일에 새로운 내용 추가하기\n",
        "\n",
        " 파일에 원래 있던 값을 유지하면서 단지 새로운 값만 추가\n",
        " 파일을 추가 모드('a')로 열고 쓴다.\n",
        "\n"
      ]
    },
    {
      "cell_type": "code",
      "metadata": {
        "id": "8LiXmntev_N1",
        "colab_type": "code",
        "colab": {}
      },
      "source": [
        "# adddata.py\n",
        "f = open(\"새파일.txt\", \"a\")\n",
        "for i in range(11, 20):\n",
        "    data = \"%d번째 줄입니다.\\n\" % i\n",
        "    f.write(data)\n",
        "f.close()"
      ],
      "execution_count": 0,
      "outputs": []
    },
    {
      "cell_type": "code",
      "metadata": {
        "id": "DGpIdnmXwDGF",
        "colab_type": "code",
        "colab": {}
      },
      "source": [
        "# 수정된 파일 확인\n",
        "f = open(\"새파일.txt\", \"r\")\n",
        "data = f.read()\n",
        "print(data)\n",
        "f.close()"
      ],
      "execution_count": 0,
      "outputs": []
    },
    {
      "cell_type": "markdown",
      "metadata": {
        "id": "w2tClVtJwFk9",
        "colab_type": "text"
      },
      "source": [
        "###With 문과 함께 쓰기\n",
        "with문을 사용하면 with 블록을 벗어나는 순간\n",
        " 열린 파일 객체 f가 자동으로 close 된다."
      ]
    },
    {
      "cell_type": "code",
      "metadata": {
        "id": "OQNAe_XOwLH1",
        "colab_type": "code",
        "colab": {}
      },
      "source": [
        "f = open(\"foo.txt\", \"w\")\n",
        "f.write(\"Life is too short, you need python\")\n",
        "f.close()\n"
      ],
      "execution_count": 0,
      "outputs": []
    },
    {
      "cell_type": "code",
      "metadata": {
        "id": "FAGPMNP_wSi9",
        "colab_type": "code",
        "colab": {}
      },
      "source": [
        "with open(\"foo2.txt\", \"w\") as f:\n",
        "    f.write(\"Life is too short, you need python\")"
      ],
      "execution_count": 0,
      "outputs": []
    },
    {
      "cell_type": "code",
      "metadata": {
        "id": "dJfHms4wwWJ1",
        "colab_type": "code",
        "colab": {}
      },
      "source": [
        "print(\"sys 모듈로 매개변수 주기\")\n",
        "#\n",
        "\"\"\"\n",
        "#sys1.py\n",
        "import sys\n",
        "\n",
        "args = sys.argv[1:]\n",
        "for i in args:\n",
        "    print(i)\n",
        "\"\"\"\n",
        "\n",
        "######\n",
        "\"\"\"\n",
        "#sys2.py\n",
        "import sys\n",
        "args = sys.argv[1:]\n",
        "for i in args:\n",
        "    print(i.upper(), end=' ')\n",
        "\"\"\""
      ],
      "execution_count": 0,
      "outputs": []
    }
  ]
}