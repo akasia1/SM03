{
  "nbformat": 4,
  "nbformat_minor": 0,
  "metadata": {
    "colab": {
      "name": "sm03_ex01_hello.ipynb",
      "version": "0.3.2",
      "provenance": [],
      "collapsed_sections": [],
      "include_colab_link": true
    },
    "kernelspec": {
      "name": "python3",
      "display_name": "Python 3"
    }
  },
  "cells": [
    {
      "cell_type": "markdown",
      "metadata": {
        "id": "view-in-github",
        "colab_type": "text"
      },
      "source": [
        "<a href=\"https://colab.research.google.com/github/akasia1/SM03/blob/master/sm03_ex01_hello.ipynb\" target=\"_parent\"><img src=\"https://colab.research.google.com/assets/colab-badge.svg\" alt=\"Open In Colab\"/></a>"
      ]
    },
    {
      "cell_type": "markdown",
      "metadata": {
        "id": "2VZ6iqfddrNg",
        "colab_type": "text"
      },
      "source": [
        "#### sm03 report 1"
      ]
    },
    {
      "cell_type": "markdown",
      "metadata": {
        "id": "g_uT68u_fDR9",
        "colab_type": "text"
      },
      "source": [
        ""
      ]
    },
    {
      "cell_type": "code",
      "metadata": {
        "id": "UavcS-fpdV_S",
        "colab_type": "code",
        "colab": {
          "base_uri": "https://localhost:8080/",
          "height": 35
        },
        "outputId": "323d44b4-02b1-4ca3-8675-db5c8644e7db"
      },
      "source": [
        "a=1\n",
        "b=2\n",
        "c=a+b\n",
        "print(c)"
      ],
      "execution_count": 1,
      "outputs": [
        {
          "output_type": "stream",
          "text": [
            "3\n"
          ],
          "name": "stdout"
        }
      ]
    },
    {
      "cell_type": "markdown",
      "metadata": {
        "id": "SxawhZlDfEBV",
        "colab_type": "text"
      },
      "source": [
        "## 문자열 출력\n"
      ]
    },
    {
      "cell_type": "code",
      "metadata": {
        "id": "Vd2QWdkseNq0",
        "colab_type": "code",
        "colab": {}
      },
      "source": [
        "###########\n",
        "ss=\"Hello Python!\"\n",
        "print(ss)"
      ],
      "execution_count": 0,
      "outputs": []
    },
    {
      "cell_type": "markdown",
      "metadata": {
        "id": "f-tjWpHPfIFd",
        "colab_type": "text"
      },
      "source": [
        "## list 선언 출력"
      ]
    },
    {
      "cell_type": "code",
      "metadata": {
        "id": "n4i5iyZDefje",
        "colab_type": "code",
        "colab": {}
      },
      "source": [
        "##############\n",
        "x=[1,2,3]\n",
        "y=[4,5,6]\n",
        "print(x)\n",
        "print(x,y)\n",
        "x+y"
      ],
      "execution_count": 0,
      "outputs": []
    },
    {
      "cell_type": "markdown",
      "metadata": {
        "id": "8ZCxh44MfQtE",
        "colab_type": "text"
      },
      "source": [
        "## 함수정의와 실행"
      ]
    },
    {
      "cell_type": "code",
      "metadata": {
        "id": "p-U-bw92elSH",
        "colab_type": "code",
        "colab": {}
      },
      "source": [
        "# function\n",
        "def add(a,b):\n",
        "    return a+b\n",
        "#\n",
        "add(1,2)\n",
        "add(x,y)"
      ],
      "execution_count": 0,
      "outputs": []
    }
  ]
}