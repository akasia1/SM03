{
  "nbformat": 4,
  "nbformat_minor": 0,
  "metadata": {
    "colab": {
      "name": "ch_02_numeric.ipynb",
      "provenance": [],
      "collapsed_sections": [],
      "include_colab_link": true
    },
    "kernelspec": {
      "name": "python3",
      "display_name": "Python 3"
    }
  },
  "cells": [
    {
      "cell_type": "markdown",
      "metadata": {
        "id": "view-in-github",
        "colab_type": "text"
      },
      "source": [
        "<a href=\"https://colab.research.google.com/github/akasia1/SM03/blob/master/ch_02_numeric.ipynb\" target=\"_parent\"><img src=\"https://colab.research.google.com/assets/colab-badge.svg\" alt=\"Open In Colab\"/></a>"
      ]
    },
    {
      "cell_type": "markdown",
      "metadata": {
        "id": "zUkybmn1l3mM",
        "colab_type": "text"
      },
      "source": [
        "##파이썬 데이터형: 숫자형\n"
      ]
    },
    {
      "cell_type": "code",
      "metadata": {
        "id": "yI0v0B2JmFPv",
        "colab_type": "code",
        "colab": {
          "base_uri": "https://localhost:8080/",
          "height": 53
        },
        "outputId": "b4959c5c-191d-4fc6-b543-bbe74754e96e"
      },
      "source": [
        "# ch2_01_numeric.py\n",
        "#\n",
        "print(\"숫자형: 정수\")\n",
        "a = 123\n",
        "print(a)\n",
        "a = -178\n",
        "a = 0\n",
        "\n"
      ],
      "execution_count": 5,
      "outputs": [
        {
          "output_type": "stream",
          "text": [
            "숫자형: 정수\n",
            "123\n"
          ],
          "name": "stdout"
        }
      ]
    },
    {
      "cell_type": "markdown",
      "metadata": {
        "id": "nb__LNecmyxE",
        "colab_type": "text"
      },
      "source": [
        "데이터는 파이썬에서 불변형으로 id(?)주소 값을 확인 할수 있다\n"
      ]
    },
    {
      "cell_type": "markdown",
      "metadata": {
        "id": "Xred4opGn3ik",
        "colab_type": "text"
      },
      "source": [
        "###데이터 숫자 실수형"
      ]
    },
    {
      "cell_type": "code",
      "metadata": {
        "id": "rcK4EK_bmTtT",
        "colab_type": "code",
        "colab": {
          "base_uri": "https://localhost:8080/",
          "height": 53
        },
        "outputId": "ee37ad14-c9cb-4018-c013-34a5cdde9a16"
      },
      "source": [
        "print(\"숫자형: 실수\")\n",
        "a = 1.2\n",
        "b = -3.48\n",
        "c = 4.24e10\n",
        "d = 4.24e-10\n",
        "\n",
        "print(a,b,c,d)"
      ],
      "execution_count": 11,
      "outputs": [
        {
          "output_type": "stream",
          "text": [
            "숫자형: 실수\n",
            "1.2 -3.48 42400000000.0 4.24e-10\n"
          ],
          "name": "stdout"
        }
      ]
    },
    {
      "cell_type": "markdown",
      "metadata": {
        "id": "Qp3sG5uVoFgb",
        "colab_type": "text"
      },
      "source": [
        "###데이터 숫자형의 8진수 16진수\n"
      ]
    },
    {
      "cell_type": "code",
      "metadata": {
        "id": "4_jbZbqcmTWj",
        "colab_type": "code",
        "colab": {
          "base_uri": "https://localhost:8080/",
          "height": 53
        },
        "outputId": "61a524d9-2caf-479d-8616-5c42c8236fa5"
      },
      "source": [
        "print(\"숫자형: 8진수와 16진수\")\n",
        "a = 0o177\n",
        "\n",
        "b = 0x8FF\n",
        "\n",
        "c = 0xABC\n",
        "a,b,c"
      ],
      "execution_count": 13,
      "outputs": [
        {
          "output_type": "stream",
          "text": [
            "숫자형: 8진수와 16진수\n"
          ],
          "name": "stdout"
        },
        {
          "output_type": "execute_result",
          "data": {
            "text/plain": [
              "(127, 2303, 2748)"
            ]
          },
          "metadata": {
            "tags": []
          },
          "execution_count": 13
        }
      ]
    },
    {
      "cell_type": "markdown",
      "metadata": {
        "id": "Gjx27MYHns37",
        "colab_type": "text"
      },
      "source": [
        "###데이터 숫자형 연산\n"
      ]
    },
    {
      "cell_type": "code",
      "metadata": {
        "id": "Pt9cnuvMoQGT",
        "colab_type": "code",
        "colab": {
          "base_uri": "https://localhost:8080/",
          "height": 53
        },
        "outputId": "a69f1513-e165-4571-d6d3-9fde35892b8b"
      },
      "source": [
        "print(\"숫자형: 연산자와 연산\")\n",
        "a = 3\n",
        "b = 4\n",
        "a,b"
      ],
      "execution_count": 14,
      "outputs": [
        {
          "output_type": "stream",
          "text": [
            "숫자형: 연산자와 연산\n"
          ],
          "name": "stdout"
        },
        {
          "output_type": "execute_result",
          "data": {
            "text/plain": [
              "(3, 4)"
            ]
          },
          "metadata": {
            "tags": []
          },
          "execution_count": 14
        }
      ]
    },
    {
      "cell_type": "code",
      "metadata": {
        "id": "8CvHFSAQotf8",
        "colab_type": "code",
        "colab": {
          "base_uri": "https://localhost:8080/",
          "height": 35
        },
        "outputId": "211cc186-c045-4954-f633-4ab376906e21"
      },
      "source": [
        "a + b ,a - b ,a * b ,a / b"
      ],
      "execution_count": 18,
      "outputs": [
        {
          "output_type": "execute_result",
          "data": {
            "text/plain": [
              "(7, -1, 12, 0.75)"
            ]
          },
          "metadata": {
            "tags": []
          },
          "execution_count": 18
        }
      ]
    },
    {
      "cell_type": "code",
      "metadata": {
        "id": "dMY65JMmlhPU",
        "colab_type": "code",
        "colab": {
          "base_uri": "https://localhost:8080/",
          "height": 35
        },
        "outputId": "0a4be68b-2d3f-4e28-c2d3-89339af005ff"
      },
      "source": [
        "\n",
        "a ** b\n",
        "a % b\n",
        "a // b\n",
        "\n",
        "14 // 3\n",
        "14 % 3"
      ],
      "execution_count": 23,
      "outputs": [
        {
          "output_type": "execute_result",
          "data": {
            "text/plain": [
              "2"
            ]
          },
          "metadata": {
            "tags": []
          },
          "execution_count": 23
        }
      ]
    },
    {
      "cell_type": "code",
      "metadata": {
        "id": "s-J5Bg_koluO",
        "colab_type": "code",
        "colab": {}
      },
      "source": [
        ""
      ],
      "execution_count": 0,
      "outputs": []
    }
  ]
}
