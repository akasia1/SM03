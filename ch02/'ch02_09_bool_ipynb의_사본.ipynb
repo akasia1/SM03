{
  "nbformat": 4,
  "nbformat_minor": 0,
  "metadata": {
    "colab": {
      "name": "ch02_09_bool.ipynb의 사본",
      "provenance": [],
      "include_colab_link": true
    },
    "kernelspec": {
      "name": "python3",
      "display_name": "Python 3"
    }
  },
  "cells": [
    {
      "cell_type": "markdown",
      "metadata": {
        "id": "view-in-github",
        "colab_type": "text"
      },
      "source": [
        "<a href=\"https://colab.research.google.com/github/akasia1/SM03/blob/master/ch02/'ch02_09_bool_ipynb%EC%9D%98_%EC%82%AC%EB%B3%B8.ipynb\" target=\"_parent\"><img src=\"https://colab.research.google.com/assets/colab-badge.svg\" alt=\"Open In Colab\"/></a>"
      ]
    },
    {
      "cell_type": "markdown",
      "metadata": {
        "id": "BrmGQOMig5Kk",
        "colab_type": "text"
      },
      "source": [
        "#Boll 불 자료형\n"
      ]
    },
    {
      "cell_type": "markdown",
      "metadata": {
        "id": "9PJ8DtC8hABG",
        "colab_type": "text"
      },
      "source": [
        "불(bool) 자료형이란 참(True)과 거짓(False)을 나타내는 자료형이다.\n",
        "\n",
        " 불 자료형은 다음 2가지 값만을 가질 수 있다.\n",
        "True - 참\n",
        "False - 거짓\n",
        "\n",
        "True나 False는 파이썬의 예약어로 true, false와 같이 사용하지 말고 첫 문자를 항상 대문자로 사용해야 한다."
      ]
    },
    {
      "cell_type": "code",
      "metadata": {
        "id": "Kl4tooulg4K7",
        "colab_type": "code",
        "outputId": "ff13c9e2-9c45-4c55-bac2-a363ac323b2c",
        "colab": {
          "base_uri": "https://localhost:8080/",
          "height": 35
        }
      },
      "source": [
        "a = True\n",
        "b = False\n",
        "type(a), type(b)"
      ],
      "execution_count": 0,
      "outputs": [
        {
          "output_type": "execute_result",
          "data": {
            "text/plain": [
              "(bool, bool)"
            ]
          },
          "metadata": {
            "tags": []
          },
          "execution_count": 1
        }
      ]
    },
    {
      "cell_type": "markdown",
      "metadata": {
        "id": "g1gHiAzbhN8j",
        "colab_type": "text"
      },
      "source": [
        "참과 거짓"
      ]
    },
    {
      "cell_type": "code",
      "metadata": {
        "id": "UFuVhaAshKKx",
        "colab_type": "code",
        "outputId": "68499159-2690-4b00-bf1a-5baa98b520a1",
        "colab": {
          "base_uri": "https://localhost:8080/",
          "height": 35
        }
      },
      "source": [
        "1 == 1\n",
        "2 > 1\n",
        "2 < 1\n",
        "True + 1\n",
        "False + 1"
      ],
      "execution_count": 0,
      "outputs": [
        {
          "output_type": "execute_result",
          "data": {
            "text/plain": [
              "1"
            ]
          },
          "metadata": {
            "tags": []
          },
          "execution_count": 2
        }
      ]
    },
    {
      "cell_type": "markdown",
      "metadata": {
        "id": "LbkjMGRwhV5K",
        "colab_type": "text"
      },
      "source": [
        "자료형의 참과 거짓"
      ]
    },
    {
      "cell_type": "code",
      "metadata": {
        "id": "1ledml8ThUpI",
        "colab_type": "code",
        "outputId": "506e702c-b203-4cb9-823c-f702a2837347",
        "colab": {
          "base_uri": "https://localhost:8080/",
          "height": 35
        }
      },
      "source": [
        "bool(\"python\")\n",
        "bool(\"\"),bool([1, 2, 3]),bool([2, 3]),bool([]),bool(()),bool({}),bool(1),bool(0),bool(None)"
      ],
      "execution_count": 1,
      "outputs": [
        {
          "output_type": "execute_result",
          "data": {
            "text/plain": [
              "(False, True, True, False, False, False, True, False, False)"
            ]
          },
          "metadata": {
            "tags": []
          },
          "execution_count": 1
        }
      ]
    },
    {
      "cell_type": "markdown",
      "metadata": {
        "id": "arcJAAdyhdia",
        "colab_type": "text"
      },
      "source": [
        "불 값을 이용한 코드"
      ]
    },
    {
      "cell_type": "code",
      "metadata": {
        "id": "xtJcJG3-hZ77",
        "colab_type": "code",
        "outputId": "107f2d98-2ee2-4fe3-b616-ac889adc7841",
        "colab": {
          "base_uri": "https://localhost:8080/",
          "height": 89
        }
      },
      "source": [
        "a = [1, 2, 3, 4]\n",
        "#\n",
        "while a:\n",
        "    print(a.pop())"
      ],
      "execution_count": 0,
      "outputs": [
        {
          "output_type": "stream",
          "text": [
            "4\n",
            "3\n",
            "2\n",
            "1\n"
          ],
          "name": "stdout"
        }
      ]
    },
    {
      "cell_type": "code",
      "metadata": {
        "id": "jSkjKIy7hhu2",
        "colab_type": "code",
        "outputId": "4e265554-347e-4542-b6fa-32ab1a796d6b",
        "colab": {
          "base_uri": "https://localhost:8080/",
          "height": 35
        }
      },
      "source": [
        "#빈리스트는 False\n",
        "if []:\n",
        "    print(\"참\")\n",
        "else:\n",
        "    print(\"거짓\")"
      ],
      "execution_count": 0,
      "outputs": [
        {
          "output_type": "stream",
          "text": [
            "거짓\n"
          ],
          "name": "stdout"
        }
      ]
    },
    {
      "cell_type": "markdown",
      "metadata": {
        "id": "D7ue4RP9iFbi",
        "colab_type": "text"
      },
      "source": [
        "문제점 에러\n"
      ]
    },
    {
      "cell_type": "code",
      "metadata": {
        "id": "YKmAEpAmhkNP",
        "colab_type": "code",
        "outputId": "f23cdebf-c6a5-4b63-eeba-2e4bf00487e4",
        "colab": {
          "base_uri": "https://localhost:8080/",
          "height": 35
        }
      },
      "source": [
        "1-0.9"
      ],
      "execution_count": 0,
      "outputs": [
        {
          "output_type": "execute_result",
          "data": {
            "text/plain": [
              "0.09999999999999998"
            ]
          },
          "metadata": {
            "tags": []
          },
          "execution_count": 6
        }
      ]
    },
    {
      "cell_type": "code",
      "metadata": {
        "id": "5BC4jecgiJ9-",
        "colab_type": "code",
        "outputId": "f9102add-71ed-4e76-c54c-87398366701c",
        "colab": {
          "base_uri": "https://localhost:8080/",
          "height": 35
        }
      },
      "source": [
        "1-0.9==.1"
      ],
      "execution_count": 0,
      "outputs": [
        {
          "output_type": "execute_result",
          "data": {
            "text/plain": [
              "False"
            ]
          },
          "metadata": {
            "tags": []
          },
          "execution_count": 7
        }
      ]
    },
    {
      "cell_type": "markdown",
      "metadata": {
        "id": "vbQkRethiOGh",
        "colab_type": "text"
      },
      "source": [
        "decimal 사용"
      ]
    },
    {
      "cell_type": "code",
      "metadata": {
        "id": "J_qBq1ouiMHH",
        "colab_type": "code",
        "outputId": "00ca5ba3-086a-4c50-8019-d9da83be45ad",
        "colab": {
          "base_uri": "https://localhost:8080/",
          "height": 53
        }
      },
      "source": [
        "import decimal\n",
        "x=decimal.Decimal(3.14)\n",
        "y=decimal.Decimal(2.74)\n",
        "x,y"
      ],
      "execution_count": 0,
      "outputs": [
        {
          "output_type": "execute_result",
          "data": {
            "text/plain": [
              "(Decimal('3.140000000000000124344978758017532527446746826171875'),\n",
              " Decimal('2.7400000000000002131628207280300557613372802734375'))"
            ]
          },
          "metadata": {
            "tags": []
          },
          "execution_count": 8
        }
      ]
    },
    {
      "cell_type": "code",
      "metadata": {
        "id": "wa9zKsfuiScc",
        "colab_type": "code",
        "outputId": "ba03629e-8f2e-4be7-826a-3f4c140d60e9",
        "colab": {
          "base_uri": "https://localhost:8080/",
          "height": 35
        }
      },
      "source": [
        "x*y"
      ],
      "execution_count": 0,
      "outputs": [
        {
          "output_type": "execute_result",
          "data": {
            "text/plain": [
              "Decimal('8.603600000000001010036498883')"
            ]
          },
          "metadata": {
            "tags": []
          },
          "execution_count": 9
        }
      ]
    },
    {
      "cell_type": "code",
      "metadata": {
        "id": "9J2JrYAoiXSc",
        "colab_type": "code",
        "outputId": "5f37e016-af84-40d3-d5cf-0213f8e8f08b",
        "colab": {
          "base_uri": "https://localhost:8080/",
          "height": 35
        }
      },
      "source": [
        "#소수점이하 정확도 지정\n",
        "\n",
        "decimal.getcontext().prec=4\n",
        "x*y"
      ],
      "execution_count": 0,
      "outputs": [
        {
          "output_type": "execute_result",
          "data": {
            "text/plain": [
              "Decimal('8.604')"
            ]
          },
          "metadata": {
            "tags": []
          },
          "execution_count": 10
        }
      ]
    }
  ]
}