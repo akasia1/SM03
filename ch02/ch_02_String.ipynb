{
  "nbformat": 4,
  "nbformat_minor": 0,
  "metadata": {
    "colab": {
      "name": "ch_02_String.ipynb",
      "provenance": [],
      "include_colab_link": true
    },
    "kernelspec": {
      "name": "python3",
      "display_name": "Python 3"
    }
  },
  "cells": [
    {
      "cell_type": "markdown",
      "metadata": {
        "id": "view-in-github",
        "colab_type": "text"
      },
      "source": [
        "<a href=\"https://colab.research.google.com/github/akasia1/SM03/blob/master/ch02/ch_02_String.ipynb\" target=\"_parent\"><img src=\"https://colab.research.google.com/assets/colab-badge.svg\" alt=\"Open In Colab\"/></a>"
      ]
    },
    {
      "cell_type": "markdown",
      "metadata": {
        "id": "7w_6M6uCpeTE",
        "colab_type": "text"
      },
      "source": [
        "#데이터 문자형\n",
        "\n",
        "```\n",
        "\n"
      ]
    },
    {
      "cell_type": "markdown",
      "metadata": {
        "id": "_W3SYApMq_dv",
        "colab_type": "text"
      },
      "source": [
        "###문자열"
      ]
    },
    {
      "cell_type": "code",
      "metadata": {
        "id": "MOY69MyqpqIY",
        "colab_type": "code",
        "colab": {
          "base_uri": "https://localhost:8080/",
          "height": 35
        },
        "outputId": "c99d4afe-7ef3-40b7-c260-6c31d1ccb051"
      },
      "source": [
        "# ch2_02_string.py\n",
        "# \"Life is too short, you need python\"\n",
        "# 'Life is too short, you need python'\n",
        "# \"\"\"Life is too short, you need python\"\"\"\n",
        "# '''Life is too short, you need python'''\n",
        "food = \"Python's favorite food is perl\"\n",
        "food"
      ],
      "execution_count": 6,
      "outputs": [
        {
          "output_type": "execute_result",
          "data": {
            "text/plain": [
              "\"Python's favorite food is perl\""
            ]
          },
          "metadata": {
            "tags": []
          },
          "execution_count": 6
        }
      ]
    },
    {
      "cell_type": "code",
      "metadata": {
        "id": "hrExq595s1lc",
        "colab_type": "code",
        "colab": {
          "base_uri": "https://localhost:8080/",
          "height": 136
        },
        "outputId": "b254a7e0-9211-4f72-bfb7-b962b5287cc9"
      },
      "source": [
        "food = 'Python's favorite food is perl'  # Error발생 원인 작은 따옴 표 안에 작은 따옴표\n",
        "food"
      ],
      "execution_count": 12,
      "outputs": [
        {
          "output_type": "error",
          "ename": "SyntaxError",
          "evalue": "ignored",
          "traceback": [
            "\u001b[0;36m  File \u001b[0;32m\"<ipython-input-12-55844158fc29>\"\u001b[0;36m, line \u001b[0;32m1\u001b[0m\n\u001b[0;31m    food = 'Python's favorite food is perl'  # Error발생 원인 작은 따옴 표 안에 작은 따옴표\u001b[0m\n\u001b[0m                   ^\u001b[0m\n\u001b[0;31mSyntaxError\u001b[0m\u001b[0;31m:\u001b[0m invalid syntax\n"
          ]
        }
      ]
    },
    {
      "cell_type": "code",
      "metadata": {
        "id": "HbpWvJ0ysW0G",
        "colab_type": "code",
        "colab": {
          "base_uri": "https://localhost:8080/",
          "height": 35
        },
        "outputId": "07930b9f-6e07-4f7f-8d98-1bb107731c38"
      },
      "source": [
        "say = '\"Python is very easy.\" he says.'#위의 코드에 올바른 활용 예시\n",
        "say"
      ],
      "execution_count": 13,
      "outputs": [
        {
          "output_type": "execute_result",
          "data": {
            "text/plain": [
              "'\"Python is very easy.\" he says.'"
            ]
          },
          "metadata": {
            "tags": []
          },
          "execution_count": 13
        }
      ]
    },
    {
      "cell_type": "markdown",
      "metadata": {
        "id": "HiCBPPgSrB31",
        "colab_type": "text"
      },
      "source": [
        "###문자열의  역슬레쉬 이용"
      ]
    },
    {
      "cell_type": "code",
      "metadata": {
        "id": "uGjl1Wabptb1",
        "colab_type": "code",
        "colab": {
          "base_uri": "https://localhost:8080/",
          "height": 35
        },
        "outputId": "8a15ff1f-45ab-431e-fd9d-d699c09fdceb"
      },
      "source": [
        "food = 'Python\\'s favorite food is perl'\n",
        "say = \"\\\"Python is very easy.\\\" he says.\"\n",
        "food,say\n",
        "\n"
      ],
      "execution_count": 19,
      "outputs": [
        {
          "output_type": "execute_result",
          "data": {
            "text/plain": [
              "(\"Python's favorite food is perl\", '\"Python is very easy.\" he says.')"
            ]
          },
          "metadata": {
            "tags": []
          },
          "execution_count": 19
        }
      ]
    },
    {
      "cell_type": "markdown",
      "metadata": {
        "id": "Ou7Kuby7rKYx",
        "colab_type": "text"
      },
      "source": [
        "###문자열의 이스케이프 코드 이용"
      ]
    },
    {
      "cell_type": "code",
      "metadata": {
        "id": "L9y7L78mtVhM",
        "colab_type": "code",
        "colab": {
          "base_uri": "https://localhost:8080/",
          "height": 35
        },
        "outputId": "d1cc755c-d532-4673-e258-0a56e8ef76df"
      },
      "source": [
        "multiline = \"Life is too short\\nYou need python\"\n",
        "multiline\n"
      ],
      "execution_count": 21,
      "outputs": [
        {
          "output_type": "execute_result",
          "data": {
            "text/plain": [
              "'Life is too short\\nYou need python'"
            ]
          },
          "metadata": {
            "tags": []
          },
          "execution_count": 21
        }
      ]
    },
    {
      "cell_type": "markdown",
      "metadata": {
        "id": "2IGP3moCtfPw",
        "colab_type": "text"
      },
      "source": [
        "여러줄 문자열 처리 방법\n"
      ]
    },
    {
      "cell_type": "code",
      "metadata": {
        "id": "BSo1vpdwpzCr",
        "colab_type": "code",
        "colab": {
          "base_uri": "https://localhost:8080/",
          "height": 35
        },
        "outputId": "ff472dc2-4be5-425b-8acb-6d5eb419732d"
      },
      "source": [
        "multiline = '''\n",
        " Life is too short\n",
        " You need python\n",
        " '''\n",
        "multiline\n"
      ],
      "execution_count": 23,
      "outputs": [
        {
          "output_type": "execute_result",
          "data": {
            "text/plain": [
              "'\\n Life is too short\\n You need python\\n '"
            ]
          },
          "metadata": {
            "tags": []
          },
          "execution_count": 23
        }
      ]
    },
    {
      "cell_type": "markdown",
      "metadata": {
        "id": "CCSFgMUcrQAR",
        "colab_type": "text"
      },
      "source": [
        "###문자열의 연산 더하기"
      ]
    },
    {
      "cell_type": "code",
      "metadata": {
        "id": "70erzbKvp5J8",
        "colab_type": "code",
        "colab": {
          "base_uri": "https://localhost:8080/",
          "height": 35
        },
        "outputId": "fc1b43a6-4780-4ae4-c00b-c6efd35dfb2f"
      },
      "source": [
        "head = \"Python\"\n",
        "tail = \" is fun!\"\n",
        "head + tail"
      ],
      "execution_count": 24,
      "outputs": [
        {
          "output_type": "execute_result",
          "data": {
            "text/plain": [
              "'Python is fun!'"
            ]
          },
          "metadata": {
            "tags": []
          },
          "execution_count": 24
        }
      ]
    },
    {
      "cell_type": "markdown",
      "metadata": {
        "id": "KpnfP6MBrTw3",
        "colab_type": "text"
      },
      "source": [
        "###문자열의 연산 곱하기"
      ]
    },
    {
      "cell_type": "code",
      "metadata": {
        "id": "necHV9pdqFQb",
        "colab_type": "code",
        "colab": {
          "base_uri": "https://localhost:8080/",
          "height": 35
        },
        "outputId": "838d52b6-7019-4dee-8ed4-446c31c04318"
      },
      "source": [
        "a = \"python\"\n",
        "a * 2"
      ],
      "execution_count": 25,
      "outputs": [
        {
          "output_type": "execute_result",
          "data": {
            "text/plain": [
              "'pythonpython'"
            ]
          },
          "metadata": {
            "tags": []
          },
          "execution_count": 25
        }
      ]
    },
    {
      "cell_type": "markdown",
      "metadata": {
        "id": "Y9-36iharWxX",
        "colab_type": "text"
      },
      "source": [
        "연산 곱하기를 활용한 간판"
      ]
    },
    {
      "cell_type": "code",
      "metadata": {
        "id": "OvWzyMARqKez",
        "colab_type": "code",
        "colab": {
          "base_uri": "https://localhost:8080/",
          "height": 71
        },
        "outputId": "c4a6d443-4aa8-4b1b-b711-151eb89e3f4c"
      },
      "source": [
        "print(\"=\" * 50)\n",
        "print(\"I am now coding Python!\")\n",
        "print(\"=\" * 50)"
      ],
      "execution_count": 26,
      "outputs": [
        {
          "output_type": "stream",
          "text": [
            "==================================================\n",
            "I am now coding Python!\n",
            "==================================================\n"
          ],
          "name": "stdout"
        }
      ]
    },
    {
      "cell_type": "markdown",
      "metadata": {
        "id": "SGnohAu8ro0r",
        "colab_type": "text"
      },
      "source": [
        "###문자열의 길이 구하기\n"
      ]
    },
    {
      "cell_type": "code",
      "metadata": {
        "id": "Cixk7CTGqLr0",
        "colab_type": "code",
        "colab": {
          "base_uri": "https://localhost:8080/",
          "height": 35
        },
        "outputId": "6266bf2c-040f-43ea-f33c-3a24367f2122"
      },
      "source": [
        "# 내장함수: len()\n",
        "a = \"Life is too short\"\n",
        "len(a)\n",
        "#공백까지 문자열의 길이로 인식됨\n"
      ],
      "execution_count": 27,
      "outputs": [
        {
          "output_type": "execute_result",
          "data": {
            "text/plain": [
              "17"
            ]
          },
          "metadata": {
            "tags": []
          },
          "execution_count": 27
        }
      ]
    },
    {
      "cell_type": "markdown",
      "metadata": {
        "id": "3iMM_GK_rskr",
        "colab_type": "text"
      },
      "source": [
        "###문자열의 인덱싱"
      ]
    },
    {
      "cell_type": "code",
      "metadata": {
        "id": "6GEtetTnqV2b",
        "colab_type": "code",
        "colab": {
          "base_uri": "https://localhost:8080/",
          "height": 35
        },
        "outputId": "88f24f07-19b6-45a1-8477-4828f56c6ab9"
      },
      "source": [
        "a = \"Life is too short, You need Python\"\n",
        "\n",
        "a[3],a[15]\n",
        "\n",
        "\n",
        "# \"파이썬은 0부터 숫자를 센다.\""
      ],
      "execution_count": 32,
      "outputs": [
        {
          "output_type": "execute_result",
          "data": {
            "text/plain": [
              "('e', 'r')"
            ]
          },
          "metadata": {
            "tags": []
          },
          "execution_count": 32
        }
      ]
    },
    {
      "cell_type": "markdown",
      "metadata": {
        "id": "xx-CsQf9rxKD",
        "colab_type": "text"
      },
      "source": [
        "###문자열 인덱싱 활용"
      ]
    },
    {
      "cell_type": "code",
      "metadata": {
        "id": "24-CvLFTqkbL",
        "colab_type": "code",
        "colab": {
          "base_uri": "https://localhost:8080/",
          "height": 35
        },
        "outputId": "02562227-4c07-404b-a4ed-61a146c14fa6"
      },
      "source": [
        "a = \"Life is too short, You need Python\"\n",
        "a[0],a[12],a[-1],\n",
        "# a[-0]\n",
        "\n"
      ],
      "execution_count": 36,
      "outputs": [
        {
          "output_type": "execute_result",
          "data": {
            "text/plain": [
              "('L', 's', 'n')"
            ]
          },
          "metadata": {
            "tags": []
          },
          "execution_count": 36
        }
      ]
    },
    {
      "cell_type": "code",
      "metadata": {
        "id": "z3gm8yMVvCbl",
        "colab_type": "code",
        "colab": {
          "base_uri": "https://localhost:8080/",
          "height": 35
        },
        "outputId": "23a6132a-c200-4b36-ec8a-1c5a0f0ed3ee"
      },
      "source": [
        "a[-2],a[-5],a[-12]"
      ],
      "execution_count": 37,
      "outputs": [
        {
          "output_type": "execute_result",
          "data": {
            "text/plain": [
              "('o', 'y', ' ')"
            ]
          },
          "metadata": {
            "tags": []
          },
          "execution_count": 37
        }
      ]
    },
    {
      "cell_type": "markdown",
      "metadata": {
        "id": "47nG76Swr1pU",
        "colab_type": "text"
      },
      "source": [
        "###문자열 슬라이싱 "
      ]
    },
    {
      "cell_type": "code",
      "metadata": {
        "id": "sgj4KYWWvRGE",
        "colab_type": "code",
        "colab": {
          "base_uri": "https://localhost:8080/",
          "height": 35
        },
        "outputId": "79fff5ed-8b9c-4c23-8f04-5feeefc1d110"
      },
      "source": [
        "a = \"Life is too short, You need Python\"\n",
        "# Life 를 뽑아낼려면 어떻게?\n",
        "b = a[0] + a[1] + a[2] + a[3]  # 문자열 뎌하기 연산\n",
        "b\n",
        "#이방법으로도 문자열을 뽑아 낼수 있지만 "
      ],
      "execution_count": 38,
      "outputs": [
        {
          "output_type": "execute_result",
          "data": {
            "text/plain": [
              "'Life'"
            ]
          },
          "metadata": {
            "tags": []
          },
          "execution_count": 38
        }
      ]
    },
    {
      "cell_type": "code",
      "metadata": {
        "id": "7dFH0ZBrvrFx",
        "colab_type": "code",
        "colab": {
          "base_uri": "https://localhost:8080/",
          "height": 35
        },
        "outputId": "acfde1da-a4aa-4abd-af45-7dda3c55b857"
      },
      "source": [
        "# slicing (슬라이싱)\n",
        "a[0:4]  # 0 <= index < 4"
      ],
      "execution_count": 40,
      "outputs": [
        {
          "output_type": "execute_result",
          "data": {
            "text/plain": [
              "'Life'"
            ]
          },
          "metadata": {
            "tags": []
          },
          "execution_count": 40
        }
      ]
    },
    {
      "cell_type": "code",
      "metadata": {
        "id": "3P3PIVmjv1Zd",
        "colab_type": "code",
        "colab": {
          "base_uri": "https://localhost:8080/",
          "height": 35
        },
        "outputId": "7e29d715-10ec-4fa7-b413-10ec0b7367c1"
      },
      "source": [
        "a[0:5],a[5:7],a[12:17]"
      ],
      "execution_count": 41,
      "outputs": [
        {
          "output_type": "execute_result",
          "data": {
            "text/plain": [
              "('Life ', 'is', 'short')"
            ]
          },
          "metadata": {
            "tags": []
          },
          "execution_count": 41
        }
      ]
    },
    {
      "cell_type": "code",
      "metadata": {
        "id": "Lh2aPS3NwNuc",
        "colab_type": "code",
        "colab": {
          "base_uri": "https://localhost:8080/",
          "height": 35
        },
        "outputId": "01b69c03-826b-4eee-b6f4-216c33e9a5ca"
      },
      "source": [
        "# : 의 사용\n",
        "a[:4],a[19:],a[:17]"
      ],
      "execution_count": 42,
      "outputs": [
        {
          "output_type": "execute_result",
          "data": {
            "text/plain": [
              "('Life', 'You need Python', 'Life is too short')"
            ]
          },
          "metadata": {
            "tags": []
          },
          "execution_count": 42
        }
      ]
    },
    {
      "cell_type": "code",
      "metadata": {
        "colab_type": "code",
        "outputId": "56d9167e-657e-47c2-9d2a-2942f280b1fc",
        "id": "fiKRCjYywGAv",
        "colab": {
          "base_uri": "https://localhost:8080/",
          "height": 35
        }
      },
      "source": [
        "a[:],a[19:-7]"
      ],
      "execution_count": 44,
      "outputs": [
        {
          "output_type": "execute_result",
          "data": {
            "text/plain": [
              "('Life is too short, You need Python', 'You need')"
            ]
          },
          "metadata": {
            "tags": []
          },
          "execution_count": 44
        }
      ]
    },
    {
      "cell_type": "markdown",
      "metadata": {
        "id": "uNbEK0thr7G7",
        "colab_type": "text"
      },
      "source": [
        "###문자열 슬라이싱 응용"
      ]
    },
    {
      "cell_type": "code",
      "metadata": {
        "id": "qAGEFC3ZqvRs",
        "colab_type": "code",
        "colab": {
          "base_uri": "https://localhost:8080/",
          "height": 35
        },
        "outputId": "56381fe7-c173-48bb-d605-ea7356e77328"
      },
      "source": [
        "a = \"20190909Sunny\"\n",
        "date = a[:8]\n",
        "weather = a[8:]\n",
        "date,weather\n"
      ],
      "execution_count": 45,
      "outputs": [
        {
          "output_type": "execute_result",
          "data": {
            "text/plain": [
              "('20190909', 'Sunny')"
            ]
          },
          "metadata": {
            "tags": []
          },
          "execution_count": 45
        }
      ]
    },
    {
      "cell_type": "code",
      "metadata": {
        "id": "Iu3eTjPWq4MU",
        "colab_type": "code",
        "colab": {
          "base_uri": "https://localhost:8080/",
          "height": 35
        },
        "outputId": "35f9f7ef-6f96-4413-dbbe-73c03030738e"
      },
      "source": [
        "a = \"20190917Rainy\"\n",
        "year = a[:4]\n",
        "day = a[4:8]\n",
        "weather = a[8:]\n",
        "year,day,weather"
      ],
      "execution_count": 46,
      "outputs": [
        {
          "output_type": "execute_result",
          "data": {
            "text/plain": [
              "('2019', '0917', 'Rainy')"
            ]
          },
          "metadata": {
            "tags": []
          },
          "execution_count": 46
        }
      ]
    },
    {
      "cell_type": "markdown",
      "metadata": {
        "id": "jWRLUDXhsA0L",
        "colab_type": "text"
      },
      "source": [
        "###문자열의 글자 교체 \n",
        "\"Pithon\"이라는 문자열을 \"Python\"으로 바꾸려면?"
      ]
    },
    {
      "cell_type": "code",
      "metadata": {
        "id": "91iNo3mTwrDL",
        "colab_type": "code",
        "colab": {}
      },
      "source": [
        "###Erorr 인 케이스\n"
      ],
      "execution_count": 0,
      "outputs": []
    },
    {
      "cell_type": "code",
      "metadata": {
        "id": "DDJ3ilr7wwwT",
        "colab_type": "code",
        "colab": {
          "base_uri": "https://localhost:8080/",
          "height": 208
        },
        "outputId": "cdf55965-ba1d-4252-b698-d6406c74b593"
      },
      "source": [
        "a = \"Pithon\"\n",
        "a[1]\n",
        "a[1] = 'y'  # Error (immutable한 자료형)"
      ],
      "execution_count": 47,
      "outputs": [
        {
          "output_type": "error",
          "ename": "TypeError",
          "evalue": "ignored",
          "traceback": [
            "\u001b[0;31m---------------------------------------------------------------------------\u001b[0m",
            "\u001b[0;31mTypeError\u001b[0m                                 Traceback (most recent call last)",
            "\u001b[0;32m<ipython-input-47-33385945aab6>\u001b[0m in \u001b[0;36m<module>\u001b[0;34m()\u001b[0m\n\u001b[1;32m      1\u001b[0m \u001b[0ma\u001b[0m \u001b[0;34m=\u001b[0m \u001b[0;34m\"Pithon\"\u001b[0m\u001b[0;34m\u001b[0m\u001b[0;34m\u001b[0m\u001b[0m\n\u001b[1;32m      2\u001b[0m \u001b[0ma\u001b[0m\u001b[0;34m[\u001b[0m\u001b[0;36m1\u001b[0m\u001b[0;34m]\u001b[0m\u001b[0;34m\u001b[0m\u001b[0;34m\u001b[0m\u001b[0m\n\u001b[0;32m----> 3\u001b[0;31m \u001b[0ma\u001b[0m\u001b[0;34m[\u001b[0m\u001b[0;36m1\u001b[0m\u001b[0;34m]\u001b[0m \u001b[0;34m=\u001b[0m \u001b[0;34m'y'\u001b[0m  \u001b[0;31m# Error (immutable한 자료형)\u001b[0m\u001b[0;34m\u001b[0m\u001b[0;34m\u001b[0m\u001b[0m\n\u001b[0m",
            "\u001b[0;31mTypeError\u001b[0m: 'str' object does not support item assignment"
          ]
        }
      ]
    },
    {
      "cell_type": "code",
      "metadata": {
        "id": "WpgHmPAspMaL",
        "colab_type": "code",
        "colab": {
          "base_uri": "https://localhost:8080/",
          "height": 35
        },
        "outputId": "3c89d447-0906-428f-8aff-6c6fb0c32a26"
      },
      "source": [
        "a = \"Pithon\"\n",
        "a[:1]\n",
        "a[2:]\n",
        "a[:1] + 'y' + a[2:]  # Python"
      ],
      "execution_count": 48,
      "outputs": [
        {
          "output_type": "execute_result",
          "data": {
            "text/plain": [
              "'Python'"
            ]
          },
          "metadata": {
            "tags": []
          },
          "execution_count": 48
        }
      ]
    },
    {
      "cell_type": "markdown",
      "metadata": {
        "id": "wjFVpLtAxPXj",
        "colab_type": "text"
      },
      "source": [
        "#문자열 포메팅"
      ]
    },
    {
      "cell_type": "markdown",
      "metadata": {
        "id": "A9KLmozY3jex",
        "colab_type": "text"
      },
      "source": [
        "##문자열: 포매팅이란?"
      ]
    },
    {
      "cell_type": "code",
      "metadata": {
        "id": "Wd5VuM5CxX1L",
        "colab_type": "code",
        "colab": {
          "base_uri": "https://localhost:8080/",
          "height": 53
        },
        "outputId": "d19692de-af56-40ac-e5c0-975345a7de90"
      },
      "source": [
        "\n",
        "# 1. 숫자 바로 대입\n",
        "\"I eat %d apples.\" % 3"
      ],
      "execution_count": 49,
      "outputs": [
        {
          "output_type": "stream",
          "text": [
            "문자열: 포매팅이란?\n"
          ],
          "name": "stdout"
        },
        {
          "output_type": "execute_result",
          "data": {
            "text/plain": [
              "'I eat 3 apples.'"
            ]
          },
          "metadata": {
            "tags": []
          },
          "execution_count": 49
        }
      ]
    },
    {
      "cell_type": "markdown",
      "metadata": {
        "id": "PVdXt_5g3gU-",
        "colab_type": "text"
      },
      "source": [
        "### 2. 문자열 바로 대입"
      ]
    },
    {
      "cell_type": "code",
      "metadata": {
        "id": "Mu67-wl1xgVk",
        "colab_type": "code",
        "colab": {
          "base_uri": "https://localhost:8080/",
          "height": 35
        },
        "outputId": "e34a31c6-7e73-4d40-e226-e7f4205bc526"
      },
      "source": [
        "\n",
        "\"I eat %s apples.\" % \"five\"\n",
        "#정확한 변수 타입을 설정해주어야한다"
      ],
      "execution_count": 50,
      "outputs": [
        {
          "output_type": "execute_result",
          "data": {
            "text/plain": [
              "'I eat five apples.'"
            ]
          },
          "metadata": {
            "tags": []
          },
          "execution_count": 50
        }
      ]
    },
    {
      "cell_type": "markdown",
      "metadata": {
        "id": "4oUspK323ezd",
        "colab_type": "text"
      },
      "source": [
        "### 3. 숫자 값을 나타내는 변수로 대입"
      ]
    },
    {
      "cell_type": "code",
      "metadata": {
        "id": "Mb1G1vpHxjF-",
        "colab_type": "code",
        "colab": {
          "base_uri": "https://localhost:8080/",
          "height": 35
        },
        "outputId": "9ade4008-375d-42de-dcbb-48163a19ffb6"
      },
      "source": [
        "\n",
        "number = 3\n",
        "\"I eat %d apples.\" % number"
      ],
      "execution_count": 51,
      "outputs": [
        {
          "output_type": "execute_result",
          "data": {
            "text/plain": [
              "'I eat 3 apples.'"
            ]
          },
          "metadata": {
            "tags": []
          },
          "execution_count": 51
        }
      ]
    },
    {
      "cell_type": "markdown",
      "metadata": {
        "id": "cqzzgCGR3bp-",
        "colab_type": "text"
      },
      "source": [
        "### 4. 2개 이상의 값 넣기"
      ]
    },
    {
      "cell_type": "code",
      "metadata": {
        "id": "5tWPFbVmxmpr",
        "colab_type": "code",
        "colab": {
          "base_uri": "https://localhost:8080/",
          "height": 35
        },
        "outputId": "23c6b059-5a01-46a1-bffc-d5becb7f3d83"
      },
      "source": [
        "\n",
        "number = 10\n",
        "day = \"three\"\n",
        "#에러를 보여주는 예시 \"I ate %d apples. so I was sick for %s days.\" % number  # , day   # Error\n",
        "\"I ate %d apples. so I was sick for %s days.\" % (number, day)\n",
        "# 소괄호 안에 콤마(,)로 구분하여 각각의 값을 넣어 준다.\n",
        "#매개변수를 숫자에 맞게 대입해주어야함 !튜플구조!\n"
      ],
      "execution_count": 55,
      "outputs": [
        {
          "output_type": "execute_result",
          "data": {
            "text/plain": [
              "'I ate 10 apples. so I was sick for three days.'"
            ]
          },
          "metadata": {
            "tags": []
          },
          "execution_count": 55
        }
      ]
    },
    {
      "cell_type": "markdown",
      "metadata": {
        "id": "1yUS3zYH3WZ9",
        "colab_type": "text"
      },
      "source": [
        "##문자열: 포맷 코드"
      ]
    },
    {
      "cell_type": "code",
      "metadata": {
        "id": "FcavWEI63SCD",
        "colab_type": "code",
        "colab": {
          "base_uri": "https://localhost:8080/",
          "height": 53
        },
        "outputId": "3758347f-fca1-4f89-935a-e0cd59d8ff5e"
      },
      "source": [
        "\n",
        "# %d 정수, %s 문자열, %c 문자하나 , %f 실수, %o, %x, %%\n",
        "# %s, 묵시적 형변환\n",
        "\"I have %s apples\" % 3\n",
        "\"rate is %s\" % 3.234"
      ],
      "execution_count": 107,
      "outputs": [
        {
          "output_type": "stream",
          "text": [
            "문자열: 포맷 코드\n"
          ],
          "name": "stdout"
        },
        {
          "output_type": "execute_result",
          "data": {
            "text/plain": [
              "'rate is 3.234'"
            ]
          },
          "metadata": {
            "tags": []
          },
          "execution_count": 107
        }
      ]
    },
    {
      "cell_type": "code",
      "metadata": {
        "id": "rJH4obgaxo8T",
        "colab_type": "code",
        "colab": {
          "base_uri": "https://localhost:8080/",
          "height": 53
        },
        "outputId": "9a04d24e-412d-449f-b444-84bc532734b2"
      },
      "source": [
        "\n",
        "\n",
        "#\"Error is %d%.\" % 98\n",
        "\"Error is %d%%.\" % 98\n",
        "#퍼센트를 출력하려면 %%를 입력 "
      ],
      "execution_count": 56,
      "outputs": [
        {
          "output_type": "stream",
          "text": [
            "문자열: 포맷 코드\n"
          ],
          "name": "stdout"
        },
        {
          "output_type": "execute_result",
          "data": {
            "text/plain": [
              "'Error is 98%.'"
            ]
          },
          "metadata": {
            "tags": []
          },
          "execution_count": 56
        }
      ]
    },
    {
      "cell_type": "markdown",
      "metadata": {
        "id": "WmRzyMFM3Nh9",
        "colab_type": "text"
      },
      "source": [
        "##문자열: 포맷 코드와 숫자 함께 사용하기"
      ]
    },
    {
      "cell_type": "code",
      "metadata": {
        "id": "0dfFA43Qz2eF",
        "colab_type": "code",
        "colab": {
          "base_uri": "https://localhost:8080/",
          "height": 53
        },
        "outputId": "83f0cc33-cdeb-4657-d0cb-284e8d58f579"
      },
      "source": [
        "\n",
        "### 1. 정렬과 공백\n",
        "\"%10s\" % \"hi\"\n",
        "\"%-10sjane.\" % \"hi\""
      ],
      "execution_count": 58,
      "outputs": [
        {
          "output_type": "stream",
          "text": [
            "문자열: 포맷 코드와 숫자 함께 사용하기\n"
          ],
          "name": "stdout"
        },
        {
          "output_type": "execute_result",
          "data": {
            "text/plain": [
              "'hi        jane.'"
            ]
          },
          "metadata": {
            "tags": []
          },
          "execution_count": 58
        }
      ]
    },
    {
      "cell_type": "markdown",
      "metadata": {
        "id": "9OcFZPOu3L9j",
        "colab_type": "text"
      },
      "source": [
        "### 2. 소수점 표현하기"
      ]
    },
    {
      "cell_type": "code",
      "metadata": {
        "id": "jPLpOgTxxs3k",
        "colab_type": "code",
        "colab": {
          "base_uri": "https://localhost:8080/",
          "height": 35
        },
        "outputId": "7ed75c0e-9219-42c0-d56e-39f4e3f2fc34"
      },
      "source": [
        "\n",
        "\"%0.4f\" % 3.42134234\n",
        "\"%10.4f\" % 3.42134234"
      ],
      "execution_count": 59,
      "outputs": [
        {
          "output_type": "execute_result",
          "data": {
            "text/plain": [
              "'    3.4213'"
            ]
          },
          "metadata": {
            "tags": []
          },
          "execution_count": 59
        }
      ]
    },
    {
      "cell_type": "markdown",
      "metadata": {
        "id": "2uFiqqNU3Ioc",
        "colab_type": "text"
      },
      "source": [
        "##문자열: format 함수를 사용한 포매팅"
      ]
    },
    {
      "cell_type": "code",
      "metadata": {
        "id": "11oXdHW0xxmk",
        "colab_type": "code",
        "colab": {
          "base_uri": "https://localhost:8080/",
          "height": 53
        },
        "outputId": "204c7337-1bfe-422c-db5f-94d952a5c457"
      },
      "source": [
        "\n",
        "### 1. 숫자 바로 대입하기\n",
        "\"I eat {0} apples\".format(3) ,\"I eat {0} {1} apples\".format(3, 4)"
      ],
      "execution_count": 62,
      "outputs": [
        {
          "output_type": "stream",
          "text": [
            "문자열: format 함수를 사용한 포매팅\n"
          ],
          "name": "stdout"
        },
        {
          "output_type": "execute_result",
          "data": {
            "text/plain": [
              "('I eat 3 apples', 'I eat 3 4 apples')"
            ]
          },
          "metadata": {
            "tags": []
          },
          "execution_count": 62
        }
      ]
    },
    {
      "cell_type": "markdown",
      "metadata": {
        "id": "MI2KKVYf3G5V",
        "colab_type": "text"
      },
      "source": [
        "### 2. 문자열 바로 대입하기"
      ]
    },
    {
      "cell_type": "code",
      "metadata": {
        "id": "rUhSJdOdx1dr",
        "colab_type": "code",
        "colab": {
          "base_uri": "https://localhost:8080/",
          "height": 35
        },
        "outputId": "6cd2891c-5004-41f5-b953-16f26d80cc40"
      },
      "source": [
        "\n",
        "\"I eat {0} apples\".format(\"five\"),   \"I eat {0} apples from {1} boxes\".format(\"five\", \"three\")"
      ],
      "execution_count": 63,
      "outputs": [
        {
          "output_type": "execute_result",
          "data": {
            "text/plain": [
              "('I eat five apples', 'I eat five apples from three boxes')"
            ]
          },
          "metadata": {
            "tags": []
          },
          "execution_count": 63
        }
      ]
    },
    {
      "cell_type": "markdown",
      "metadata": {
        "id": "5_LoJwGJ3FX4",
        "colab_type": "text"
      },
      "source": [
        "### 3. 숫자 값을 가진 변수로 대입하기"
      ]
    },
    {
      "cell_type": "code",
      "metadata": {
        "id": "q_oYdEb0x1W0",
        "colab_type": "code",
        "colab": {
          "base_uri": "https://localhost:8080/",
          "height": 35
        },
        "outputId": "2603b30c-2712-4972-c525-4b4fb5e5951f"
      },
      "source": [
        "\n",
        "number = 3\n",
        "\"I eat {0} apples\".format(number), \"I eat {0} apples\".format(number + 1)"
      ],
      "execution_count": 64,
      "outputs": [
        {
          "output_type": "execute_result",
          "data": {
            "text/plain": [
              "('I eat 3 apples', 'I eat 4 apples')"
            ]
          },
          "metadata": {
            "tags": []
          },
          "execution_count": 64
        }
      ]
    },
    {
      "cell_type": "markdown",
      "metadata": {
        "id": "Y43a0AMy3DBE",
        "colab_type": "text"
      },
      "source": [
        "### 2개 이상의 값 넣기"
      ]
    },
    {
      "cell_type": "code",
      "metadata": {
        "id": "BTjfqztIx65T",
        "colab_type": "code",
        "colab": {
          "base_uri": "https://localhost:8080/",
          "height": 35
        },
        "outputId": "f1431dc9-074f-41e8-8b58-ea5f59fbc034"
      },
      "source": [
        "\n",
        "number = 10\n",
        "day = \"three\"\n",
        "\"I ate {0} apples. so I was sick for {1} days.\".format(number, day)"
      ],
      "execution_count": 65,
      "outputs": [
        {
          "output_type": "execute_result",
          "data": {
            "text/plain": [
              "'I ate 10 apples. so I was sick for three days.'"
            ]
          },
          "metadata": {
            "tags": []
          },
          "execution_count": 65
        }
      ]
    },
    {
      "cell_type": "markdown",
      "metadata": {
        "id": "Mltwiv0y3AHd",
        "colab_type": "text"
      },
      "source": [
        "### 이름으로 넣기"
      ]
    },
    {
      "cell_type": "code",
      "metadata": {
        "id": "Ij6XZxAqx_12",
        "colab_type": "code",
        "colab": {
          "base_uri": "https://localhost:8080/",
          "height": 35
        },
        "outputId": "81d32d08-5abb-4b0b-e9e5-0e8539711fea"
      },
      "source": [
        "\n",
        "\"I ate {number} apples. so I was sick for {day} days.\".format(number=10, day=3)"
      ],
      "execution_count": 66,
      "outputs": [
        {
          "output_type": "execute_result",
          "data": {
            "text/plain": [
              "'I ate 10 apples. so I was sick for 3 days.'"
            ]
          },
          "metadata": {
            "tags": []
          },
          "execution_count": 66
        }
      ]
    },
    {
      "cell_type": "markdown",
      "metadata": {
        "id": "EkKJbNqQ2-ks",
        "colab_type": "text"
      },
      "source": [
        "### 인덱스와 이름을 혼용해서 넣기"
      ]
    },
    {
      "cell_type": "code",
      "metadata": {
        "id": "VEDDORjEyB7E",
        "colab_type": "code",
        "colab": {
          "base_uri": "https://localhost:8080/",
          "height": 35
        },
        "outputId": "eba9b465-3b7a-4cd9-9d9a-382e3eafadad"
      },
      "source": [
        "\n",
        "\n",
        "\"I ate {0} apples. so I was sick for {day} days.\".format(10, day=3)"
      ],
      "execution_count": 67,
      "outputs": [
        {
          "output_type": "execute_result",
          "data": {
            "text/plain": [
              "'I ate 10 apples. so I was sick for 3 days.'"
            ]
          },
          "metadata": {
            "tags": []
          },
          "execution_count": 67
        }
      ]
    },
    {
      "cell_type": "markdown",
      "metadata": {
        "id": "K34_0Ryz2741",
        "colab_type": "text"
      },
      "source": [
        "### 왼쪽 정렬/ 오른쪽 정렬"
      ]
    },
    {
      "cell_type": "code",
      "metadata": {
        "id": "cDf4Ke_zyGek",
        "colab_type": "code",
        "colab": {
          "base_uri": "https://localhost:8080/",
          "height": 35
        },
        "outputId": "480d6f60-b810-49b1-d03f-b091151201ad"
      },
      "source": [
        "\"{0:<10}\".format(\"hi\"), \"{0:>10}\".format(\"hi\")"
      ],
      "execution_count": 69,
      "outputs": [
        {
          "output_type": "execute_result",
          "data": {
            "text/plain": [
              "('hi        ', '        hi')"
            ]
          },
          "metadata": {
            "tags": []
          },
          "execution_count": 69
        }
      ]
    },
    {
      "cell_type": "markdown",
      "metadata": {
        "id": "SOKwSdNj24_O",
        "colab_type": "text"
      },
      "source": [
        "### 가운데 정렬"
      ]
    },
    {
      "cell_type": "code",
      "metadata": {
        "id": "e62tdTgiyJgf",
        "colab_type": "code",
        "colab": {
          "base_uri": "https://localhost:8080/",
          "height": 35
        },
        "outputId": "588055a5-880b-4258-fce9-46b9a2464c4e"
      },
      "source": [
        "\"{0:^10}\".format(\"hi\")"
      ],
      "execution_count": 70,
      "outputs": [
        {
          "output_type": "execute_result",
          "data": {
            "text/plain": [
              "'    hi    '"
            ]
          },
          "metadata": {
            "tags": []
          },
          "execution_count": 70
        }
      ]
    },
    {
      "cell_type": "markdown",
      "metadata": {
        "id": "kjjkdNNe2zA8",
        "colab_type": "text"
      },
      "source": [
        "###공백 채우기"
      ]
    },
    {
      "cell_type": "code",
      "metadata": {
        "id": "YsnoaoI_yJeU",
        "colab_type": "code",
        "colab": {
          "base_uri": "https://localhost:8080/",
          "height": 35
        },
        "outputId": "e83ca60d-5c16-476b-f392-3d55e089cfc1"
      },
      "source": [
        "\"{0:=^10}\".format(\"hi\"),\"{0:!<10}\".format(\"hi\")"
      ],
      "execution_count": 71,
      "outputs": [
        {
          "output_type": "execute_result",
          "data": {
            "text/plain": [
              "('====hi====', 'hi!!!!!!!!')"
            ]
          },
          "metadata": {
            "tags": []
          },
          "execution_count": 71
        }
      ]
    },
    {
      "cell_type": "markdown",
      "metadata": {
        "id": "cVcZ0H512x0o",
        "colab_type": "text"
      },
      "source": [
        "### 도전하기"
      ]
    },
    {
      "cell_type": "code",
      "metadata": {
        "id": "OC58Vmf9yJb1",
        "colab_type": "code",
        "colab": {
          "base_uri": "https://localhost:8080/",
          "height": 35
        },
        "outputId": "fbe820ca-88c8-4c9c-f3fa-5aa9bb064560"
      },
      "source": [
        "\n",
        " \"{0:<10}{1:>10}\".format(\"hi\",'comsi')"
      ],
      "execution_count": 72,
      "outputs": [
        {
          "output_type": "execute_result",
          "data": {
            "text/plain": [
              "'hi             comsi'"
            ]
          },
          "metadata": {
            "tags": []
          },
          "execution_count": 72
        }
      ]
    },
    {
      "cell_type": "markdown",
      "metadata": {
        "id": "0QxmHlsl2oV0",
        "colab_type": "text"
      },
      "source": [
        "### 소수점 표현하기"
      ]
    },
    {
      "cell_type": "code",
      "metadata": {
        "id": "vsIC9p10yPFl",
        "colab_type": "code",
        "colab": {
          "base_uri": "https://localhost:8080/",
          "height": 35
        },
        "outputId": "4dc89ed8-b78c-40ee-c1e4-15f532e01b13"
      },
      "source": [
        "\n",
        "y = 3.42134234\n",
        "\"{0:0.4f}\".format(y),\"{0:10.4f}\".format(y)"
      ],
      "execution_count": 73,
      "outputs": [
        {
          "output_type": "execute_result",
          "data": {
            "text/plain": [
              "('3.4213', '    3.4213')"
            ]
          },
          "metadata": {
            "tags": []
          },
          "execution_count": 73
        }
      ]
    },
    {
      "cell_type": "markdown",
      "metadata": {
        "id": "IZu5M_fT2pNZ",
        "colab_type": "text"
      },
      "source": [
        "### { 또는 } 문자 표현하기"
      ]
    },
    {
      "cell_type": "code",
      "metadata": {
        "id": "9MzYBZgbyPDd",
        "colab_type": "code",
        "colab": {
          "base_uri": "https://localhost:8080/",
          "height": 35
        },
        "outputId": "15e6d421-fec2-42a0-bad8-a7e3a0df2a3b"
      },
      "source": [
        "\n",
        "\"{{ and }}\".format()"
      ],
      "execution_count": 74,
      "outputs": [
        {
          "output_type": "execute_result",
          "data": {
            "text/plain": [
              "'{ and }'"
            ]
          },
          "metadata": {
            "tags": []
          },
          "execution_count": 74
        }
      ]
    },
    {
      "cell_type": "markdown",
      "metadata": {
        "id": "NbHsaPks2gYE",
        "colab_type": "text"
      },
      "source": [
        "##문자열: f 문자열 포매팅"
      ]
    },
    {
      "cell_type": "code",
      "metadata": {
        "id": "pmJ_Q8ScyPA8",
        "colab_type": "code",
        "colab": {
          "base_uri": "https://localhost:8080/",
          "height": 53
        },
        "outputId": "9d984a0e-dd8a-4d18-d481-860e55170261"
      },
      "source": [
        "\n",
        "name = \"홍길동\"\n",
        "age = 30\n",
        "f\"나의 이름은 {name}입니다. 나이는 {age}입니다.\""
      ],
      "execution_count": 75,
      "outputs": [
        {
          "output_type": "stream",
          "text": [
            "문자열: f 문자열 포매팅\n"
          ],
          "name": "stdout"
        },
        {
          "output_type": "execute_result",
          "data": {
            "text/plain": [
              "'나의 이름은 홍길동입니다. 나이는 30입니다.'"
            ]
          },
          "metadata": {
            "tags": []
          },
          "execution_count": 75
        }
      ]
    },
    {
      "cell_type": "code",
      "metadata": {
        "id": "1yzrqylQyO7U",
        "colab_type": "code",
        "colab": {
          "base_uri": "https://localhost:8080/",
          "height": 35
        },
        "outputId": "fcf18a1a-f4bb-4b19-9452-f1811673e166"
      },
      "source": [
        "age = 30\n",
        "f\"나는 내년이면 {age+1}살이 된다.\""
      ],
      "execution_count": 76,
      "outputs": [
        {
          "output_type": "execute_result",
          "data": {
            "text/plain": [
              "'나는 내년이면 31살이 된다.'"
            ]
          },
          "metadata": {
            "tags": []
          },
          "execution_count": 76
        }
      ]
    },
    {
      "cell_type": "code",
      "metadata": {
        "id": "fT8iB2m20w11",
        "colab_type": "code",
        "colab": {}
      },
      "source": [
        "# 딕셔너리는 f 문자열 포매팅에서 다음과 같이 사용\n",
        "d = {\"name\": \"홍길동\", \"age\": 30}"
      ],
      "execution_count": 0,
      "outputs": []
    },
    {
      "cell_type": "code",
      "metadata": {
        "id": "TWemRQH4ynGM",
        "colab_type": "code",
        "colab": {
          "base_uri": "https://localhost:8080/",
          "height": 35
        },
        "outputId": "b8737c6a-8d2b-49f5-bfbc-2e1501cb48fb"
      },
      "source": [
        "f'나의 이름은 {d[\"name\"]}입니다. 나이는 {d[\"age\"]}입니다.'"
      ],
      "execution_count": 81,
      "outputs": [
        {
          "output_type": "execute_result",
          "data": {
            "text/plain": [
              "'나의 이름은 홍길동입니다. 나이는 30입니다.'"
            ]
          },
          "metadata": {
            "tags": []
          },
          "execution_count": 81
        }
      ]
    },
    {
      "cell_type": "markdown",
      "metadata": {
        "id": "30Uht5Ni1L1F",
        "colab_type": "text"
      },
      "source": [
        "###정렬\n"
      ]
    },
    {
      "cell_type": "code",
      "metadata": {
        "id": "sUHgARG81C1X",
        "colab_type": "code",
        "colab": {
          "base_uri": "https://localhost:8080/",
          "height": 35
        },
        "outputId": "1de4696a-61a3-4476-82f9-a881e75fd5ff"
      },
      "source": [
        "f'{\"hi\":<10}'  # 왼쪽 정렬"
      ],
      "execution_count": 83,
      "outputs": [
        {
          "output_type": "execute_result",
          "data": {
            "text/plain": [
              "'hi        '"
            ]
          },
          "metadata": {
            "tags": []
          },
          "execution_count": 83
        }
      ]
    },
    {
      "cell_type": "code",
      "metadata": {
        "id": "XpPb7_mo1CvU",
        "colab_type": "code",
        "colab": {
          "base_uri": "https://localhost:8080/",
          "height": 35
        },
        "outputId": "bf5b8716-7823-4d8c-da56-a64aa48235e5"
      },
      "source": [
        "f'{\"hi\":>10}'  # 오른쪽 정렬"
      ],
      "execution_count": 84,
      "outputs": [
        {
          "output_type": "execute_result",
          "data": {
            "text/plain": [
              "'        hi'"
            ]
          },
          "metadata": {
            "tags": []
          },
          "execution_count": 84
        }
      ]
    },
    {
      "cell_type": "code",
      "metadata": {
        "id": "_Do7y-r9yqrH",
        "colab_type": "code",
        "colab": {
          "base_uri": "https://localhost:8080/",
          "height": 35
        },
        "outputId": "556da3a5-fc7d-4c2a-e4ef-376933aab71c"
      },
      "source": [
        "f'{\"hi\":^10}'  # 가운데 정렬"
      ],
      "execution_count": 85,
      "outputs": [
        {
          "output_type": "execute_result",
          "data": {
            "text/plain": [
              "'    hi    '"
            ]
          },
          "metadata": {
            "tags": []
          },
          "execution_count": 85
        }
      ]
    },
    {
      "cell_type": "markdown",
      "metadata": {
        "id": "WXlDBLsZ3tD6",
        "colab_type": "text"
      },
      "source": [
        "### 공백 채우기\n"
      ]
    },
    {
      "cell_type": "code",
      "metadata": {
        "id": "ItY24se81XYr",
        "colab_type": "code",
        "colab": {
          "base_uri": "https://localhost:8080/",
          "height": 35
        },
        "outputId": "f2fd98c2-a5fc-4c7c-ec49-5769de5f3565"
      },
      "source": [
        "\n",
        "y = 3.42134234\n",
        "f\"{y:0.4f}\"  # 소수점 4자리까지만 표현"
      ],
      "execution_count": 87,
      "outputs": [
        {
          "output_type": "execute_result",
          "data": {
            "text/plain": [
              "'3.4213'"
            ]
          },
          "metadata": {
            "tags": []
          },
          "execution_count": 87
        }
      ]
    },
    {
      "cell_type": "code",
      "metadata": {
        "id": "yW7C_Eaiyvpz",
        "colab_type": "code",
        "colab": {
          "base_uri": "https://localhost:8080/",
          "height": 35
        },
        "outputId": "34970e52-b45b-4ba6-9931-2c5d9e1bda31"
      },
      "source": [
        "\n",
        "f\"{y:10.4f}\"  # 소수점 4자리까지 표현하고 총 자리수를 10으로 맞춤"
      ],
      "execution_count": 88,
      "outputs": [
        {
          "output_type": "execute_result",
          "data": {
            "text/plain": [
              "'    3.4213'"
            ]
          },
          "metadata": {
            "tags": []
          },
          "execution_count": 88
        }
      ]
    },
    {
      "cell_type": "markdown",
      "metadata": {
        "id": "7Cxj19gq3wOE",
        "colab_type": "text"
      },
      "source": [
        "### { } 문자를 표시"
      ]
    },
    {
      "cell_type": "code",
      "metadata": {
        "id": "UZ_0UPGByx2M",
        "colab_type": "code",
        "colab": {
          "base_uri": "https://localhost:8080/",
          "height": 35
        },
        "outputId": "ffbe277e-b5b7-49f1-fbd3-7795a2d7a3c4"
      },
      "source": [
        "\n",
        "f\"{{ and }}\""
      ],
      "execution_count": 89,
      "outputs": [
        {
          "output_type": "execute_result",
          "data": {
            "text/plain": [
              "'{ and }'"
            ]
          },
          "metadata": {
            "tags": []
          },
          "execution_count": 89
        }
      ]
    },
    {
      "cell_type": "markdown",
      "metadata": {
        "id": "OVSXtxnP3z2m",
        "colab_type": "text"
      },
      "source": [
        "##문자열: 관련 내장 함수들"
      ]
    },
    {
      "cell_type": "code",
      "metadata": {
        "id": "X_HsHoIGy2sW",
        "colab_type": "code",
        "colab": {
          "base_uri": "https://localhost:8080/",
          "height": 53
        },
        "outputId": "5e4a37e3-d7ea-4857-e478-516369c26b1c"
      },
      "source": [
        "### 문자 개수 세기(count)\n",
        "a = \"hobby\"\n",
        "a.count(\"b\")"
      ],
      "execution_count": 90,
      "outputs": [
        {
          "output_type": "stream",
          "text": [
            "문자열: 관련 내장 함수들\n"
          ],
          "name": "stdout"
        },
        {
          "output_type": "execute_result",
          "data": {
            "text/plain": [
              "2"
            ]
          },
          "metadata": {
            "tags": []
          },
          "execution_count": 90
        }
      ]
    },
    {
      "cell_type": "code",
      "metadata": {
        "id": "eOELdwm5y4-l",
        "colab_type": "code",
        "colab": {
          "base_uri": "https://localhost:8080/",
          "height": 35
        },
        "outputId": "10fc6c6a-bee3-44b8-dc0f-5cb0b2c2b48b"
      },
      "source": [
        "### 위치 알려주기1(find)\n",
        "a = \"Python is the best choice\"\n",
        "a.find(\"b\"),a.find(\"k\")  # what value?"
      ],
      "execution_count": 92,
      "outputs": [
        {
          "output_type": "execute_result",
          "data": {
            "text/plain": [
              "(14, -1)"
            ]
          },
          "metadata": {
            "tags": []
          },
          "execution_count": 92
        }
      ]
    },
    {
      "cell_type": "code",
      "metadata": {
        "id": "bNiNFgpCy7Zm",
        "colab_type": "code",
        "colab": {
          "base_uri": "https://localhost:8080/",
          "height": 35
        },
        "outputId": "c8b21a83-ed1b-46de-be56-ecf4144855c0"
      },
      "source": [
        "### 위치 알려주기2(index)\n",
        "a = \"Life is too short\"\n",
        "a.index(\"t\") "
      ],
      "execution_count": 94,
      "outputs": [
        {
          "output_type": "execute_result",
          "data": {
            "text/plain": [
              "8"
            ]
          },
          "metadata": {
            "tags": []
          },
          "execution_count": 94
        }
      ]
    },
    {
      "cell_type": "code",
      "metadata": {
        "id": "MQ_JMzuA1vBA",
        "colab_type": "code",
        "colab": {
          "base_uri": "https://localhost:8080/",
          "height": 172
        },
        "outputId": "fb876f42-402f-4687-ecf6-b3f44a280db1"
      },
      "source": [
        "a.index(\"k\")\n",
        "#문자가 없음으로 에러 발생\n"
      ],
      "execution_count": 95,
      "outputs": [
        {
          "output_type": "error",
          "ename": "ValueError",
          "evalue": "ignored",
          "traceback": [
            "\u001b[0;31m---------------------------------------------------------------------------\u001b[0m",
            "\u001b[0;31mValueError\u001b[0m                                Traceback (most recent call last)",
            "\u001b[0;32m<ipython-input-95-cd61cda71c9b>\u001b[0m in \u001b[0;36m<module>\u001b[0;34m()\u001b[0m\n\u001b[0;32m----> 1\u001b[0;31m \u001b[0ma\u001b[0m\u001b[0;34m.\u001b[0m\u001b[0mindex\u001b[0m\u001b[0;34m(\u001b[0m\u001b[0;34m\"k\"\u001b[0m\u001b[0;34m)\u001b[0m\u001b[0;34m\u001b[0m\u001b[0;34m\u001b[0m\u001b[0m\n\u001b[0m",
            "\u001b[0;31mValueError\u001b[0m: substring not found"
          ]
        }
      ]
    },
    {
      "cell_type": "markdown",
      "metadata": {
        "id": "wgJJCvfT4DdT",
        "colab_type": "text"
      },
      "source": [
        "### 문자열 삽입(join)\n"
      ]
    },
    {
      "cell_type": "code",
      "metadata": {
        "id": "_rGg0qo3y8x-",
        "colab_type": "code",
        "colab": {
          "base_uri": "https://localhost:8080/",
          "height": 35
        },
        "outputId": "de21b61e-f591-43ca-f8e3-9d1f8c0b9976"
      },
      "source": [
        "\n",
        "\",\".join(\"abcd\")\n",
        "\",\".join([\"a\", \"b\", \"c\", \"d\"])"
      ],
      "execution_count": 96,
      "outputs": [
        {
          "output_type": "execute_result",
          "data": {
            "text/plain": [
              "'a,b,c,d'"
            ]
          },
          "metadata": {
            "tags": []
          },
          "execution_count": 96
        }
      ]
    },
    {
      "cell_type": "markdown",
      "metadata": {
        "id": "h17jt4kp4FKc",
        "colab_type": "text"
      },
      "source": [
        "### 소문자를 대문자로 바꾸기(upper)"
      ]
    },
    {
      "cell_type": "code",
      "metadata": {
        "id": "HTIB9UPTy_3E",
        "colab_type": "code",
        "colab": {
          "base_uri": "https://localhost:8080/",
          "height": 35
        },
        "outputId": "fbed465a-87c9-444e-fd47-45680586f12b"
      },
      "source": [
        "\n",
        "a = \"hi\"\n",
        "a.upper()"
      ],
      "execution_count": 97,
      "outputs": [
        {
          "output_type": "execute_result",
          "data": {
            "text/plain": [
              "'HI'"
            ]
          },
          "metadata": {
            "tags": []
          },
          "execution_count": 97
        }
      ]
    },
    {
      "cell_type": "markdown",
      "metadata": {
        "id": "nfTDT8NJ4HAl",
        "colab_type": "text"
      },
      "source": [
        "### 대문자를 소문자로 바꾸기(lower)"
      ]
    },
    {
      "cell_type": "code",
      "metadata": {
        "id": "gBGJ7WgSy_w8",
        "colab_type": "code",
        "colab": {
          "base_uri": "https://localhost:8080/",
          "height": 35
        },
        "outputId": "6dff9edd-1b0f-4a35-e50a-997c87f1d937"
      },
      "source": [
        "\n",
        "a = \"IoT\"\n",
        "a.lower()"
      ],
      "execution_count": 98,
      "outputs": [
        {
          "output_type": "execute_result",
          "data": {
            "text/plain": [
              "'iot'"
            ]
          },
          "metadata": {
            "tags": []
          },
          "execution_count": 98
        }
      ]
    },
    {
      "cell_type": "markdown",
      "metadata": {
        "id": "FWRYATpn4Ja0",
        "colab_type": "text"
      },
      "source": [
        "### 왼쪽 공백 지우기(lstrip)"
      ]
    },
    {
      "cell_type": "code",
      "metadata": {
        "id": "3Ue_ikMSy_pM",
        "colab_type": "code",
        "colab": {
          "base_uri": "https://localhost:8080/",
          "height": 35
        },
        "outputId": "35b5f2ce-9587-4e0a-8501-5f13d9d10891"
      },
      "source": [
        "\n",
        "a = \" hi \"\n",
        "a.lstrip()"
      ],
      "execution_count": 99,
      "outputs": [
        {
          "output_type": "execute_result",
          "data": {
            "text/plain": [
              "'hi '"
            ]
          },
          "metadata": {
            "tags": []
          },
          "execution_count": 99
        }
      ]
    },
    {
      "cell_type": "markdown",
      "metadata": {
        "id": "rq7XMG5g4NZ0",
        "colab_type": "text"
      },
      "source": [
        "### 오른쪽 공백 지우기(rstrip)"
      ]
    },
    {
      "cell_type": "code",
      "metadata": {
        "id": "aZZ7YEm7zI0M",
        "colab_type": "code",
        "colab": {
          "base_uri": "https://localhost:8080/",
          "height": 35
        },
        "outputId": "c93849d0-c217-478e-e56a-ebe519428a90"
      },
      "source": [
        "\n",
        "a.rstrip()\n"
      ],
      "execution_count": 100,
      "outputs": [
        {
          "output_type": "execute_result",
          "data": {
            "text/plain": [
              "' hi'"
            ]
          },
          "metadata": {
            "tags": []
          },
          "execution_count": 100
        }
      ]
    },
    {
      "cell_type": "markdown",
      "metadata": {
        "id": "UNKBY8r94R7H",
        "colab_type": "text"
      },
      "source": [
        "### 양쪽 공백 지우기(strip)"
      ]
    },
    {
      "cell_type": "code",
      "metadata": {
        "id": "dBuFRdIHzIxk",
        "colab_type": "code",
        "colab": {
          "base_uri": "https://localhost:8080/",
          "height": 35
        },
        "outputId": "92fa23c2-424f-4886-826d-a9a5c02d0d34"
      },
      "source": [
        "\n",
        "a.strip()"
      ],
      "execution_count": 101,
      "outputs": [
        {
          "output_type": "execute_result",
          "data": {
            "text/plain": [
              "'hi'"
            ]
          },
          "metadata": {
            "tags": []
          },
          "execution_count": 101
        }
      ]
    },
    {
      "cell_type": "markdown",
      "metadata": {
        "id": "s9GlxHrW4TnU",
        "colab_type": "text"
      },
      "source": [
        "### 문자열 바꾸기(replace)"
      ]
    },
    {
      "cell_type": "code",
      "metadata": {
        "id": "_ddxMQ6FzIuu",
        "colab_type": "code",
        "colab": {
          "base_uri": "https://localhost:8080/",
          "height": 35
        },
        "outputId": "3e50968d-2f5c-4eaf-c061-63b8a0e06ac3"
      },
      "source": [
        "\n",
        "a = \"Life is too short\"\n",
        "a.replace(\"Life\", \"Your leg\")"
      ],
      "execution_count": 102,
      "outputs": [
        {
          "output_type": "execute_result",
          "data": {
            "text/plain": [
              "'Your leg is too short'"
            ]
          },
          "metadata": {
            "tags": []
          },
          "execution_count": 102
        }
      ]
    },
    {
      "cell_type": "markdown",
      "metadata": {
        "id": "JRODNaT84VYQ",
        "colab_type": "text"
      },
      "source": [
        "### 문자열 나누기(split) -> 리스트로 변환하여 반환"
      ]
    },
    {
      "cell_type": "code",
      "metadata": {
        "id": "gWYYBgsLzQ9_",
        "colab_type": "code",
        "colab": {
          "base_uri": "https://localhost:8080/",
          "height": 35
        },
        "outputId": "dff38fa1-9f06-4fcb-eb9a-f5eba3d04254"
      },
      "source": [
        "\n",
        "a = \"Life is too short\"\n",
        "a.split()\n"
      ],
      "execution_count": 105,
      "outputs": [
        {
          "output_type": "execute_result",
          "data": {
            "text/plain": [
              "['Life', 'is', 'too', 'short']"
            ]
          },
          "metadata": {
            "tags": []
          },
          "execution_count": 105
        }
      ]
    },
    {
      "cell_type": "code",
      "metadata": {
        "id": "fjukHW8C2Gim",
        "colab_type": "code",
        "colab": {
          "base_uri": "https://localhost:8080/",
          "height": 35
        },
        "outputId": "d2fe0b24-01d0-4bf1-bb34-f16854426dcb"
      },
      "source": [
        "b = \"a:b:c:d\"\n",
        "b.split(\":\")"
      ],
      "execution_count": 104,
      "outputs": [
        {
          "output_type": "execute_result",
          "data": {
            "text/plain": [
              "['a', 'b', 'c', 'd']"
            ]
          },
          "metadata": {
            "tags": []
          },
          "execution_count": 104
        }
      ]
    },
    {
      "cell_type": "markdown",
      "metadata": {
        "id": "jHmNQU9i4Yhc",
        "colab_type": "text"
      },
      "source": [
        "##도전하기 #####\n",
        "### format 함수 또는 f 문자열 포매팅을 이용해서 '!!!python!!!' 문자열을 출력해보시오."
      ]
    },
    {
      "cell_type": "code",
      "metadata": {
        "id": "tDSeuq_xzVmK",
        "colab_type": "code",
        "colab": {
          "base_uri": "https://localhost:8080/",
          "height": 35
        },
        "outputId": "59036acd-37c3-4901-b689-cda1108baac3"
      },
      "source": [
        "\n",
        "\"{0:!^12}\".format(\"python\")\n",
        "f'{\"python\":!^12}'\n"
      ],
      "execution_count": 106,
      "outputs": [
        {
          "output_type": "execute_result",
          "data": {
            "text/plain": [
              "'!!!python!!!'"
            ]
          },
          "metadata": {
            "tags": []
          },
          "execution_count": 106
        }
      ]
    }
  ]
}