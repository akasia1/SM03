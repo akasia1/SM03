{
  "nbformat": 4,
  "nbformat_minor": 0,
  "metadata": {
    "colab": {
      "name": "ch02_08_Set.ipynb",
      "provenance": [],
      "collapsed_sections": [],
      "include_colab_link": true
    },
    "kernelspec": {
      "name": "python3",
      "display_name": "Python 3"
    }
  },
  "cells": [
    {
      "cell_type": "markdown",
      "metadata": {
        "id": "view-in-github",
        "colab_type": "text"
      },
      "source": [
        "<a href=\"https://colab.research.google.com/github/akasia1/SM03/blob/master/ch02/ch02_08_Set.ipynb\" target=\"_parent\"><img src=\"https://colab.research.google.com/assets/colab-badge.svg\" alt=\"Open In Colab\"/></a>"
      ]
    },
    {
      "cell_type": "markdown",
      "metadata": {
        "id": "8LjFf-RgeKoJ",
        "colab_type": "text"
      },
      "source": [
        "#Set 집합\n"
      ]
    },
    {
      "cell_type": "code",
      "metadata": {
        "id": "f1TSiX3QeQnE",
        "colab_type": "code",
        "outputId": "8f217172-5068-4f2a-c23e-1d32467a8657",
        "colab": {
          "base_uri": "https://localhost:8080/",
          "height": 35
        }
      },
      "source": [
        "s1 = set([1, 2, 3])\n",
        "s1"
      ],
      "execution_count": 0,
      "outputs": [
        {
          "output_type": "execute_result",
          "data": {
            "text/plain": [
              "{1, 2, 3}"
            ]
          },
          "metadata": {
            "tags": []
          },
          "execution_count": 1
        }
      ]
    },
    {
      "cell_type": "code",
      "metadata": {
        "id": "5VBrdJ8XeJ7Z",
        "colab_type": "code",
        "outputId": "97ddcd87-90ec-4b7b-9e9d-a2e445b8310a",
        "colab": {
          "base_uri": "https://localhost:8080/",
          "height": 35
        }
      },
      "source": [
        "s1n = set([1, 2, 3, 2])\n",
        "s1n"
      ],
      "execution_count": 0,
      "outputs": [
        {
          "output_type": "execute_result",
          "data": {
            "text/plain": [
              "{1, 2, 3}"
            ]
          },
          "metadata": {
            "tags": []
          },
          "execution_count": 2
        }
      ]
    },
    {
      "cell_type": "code",
      "metadata": {
        "id": "h1MeN_2teXbt",
        "colab_type": "code",
        "outputId": "161d8eab-877c-4b49-8aa7-c0292e5890b8",
        "colab": {
          "base_uri": "https://localhost:8080/",
          "height": 35
        }
      },
      "source": [
        "s2 = set(\"Hello\")\n",
        "s2"
      ],
      "execution_count": 0,
      "outputs": [
        {
          "output_type": "execute_result",
          "data": {
            "text/plain": [
              "{'H', 'e', 'l', 'o'}"
            ]
          },
          "metadata": {
            "tags": []
          },
          "execution_count": 3
        }
      ]
    },
    {
      "cell_type": "markdown",
      "metadata": {
        "id": "eDYqJnwQefiY",
        "colab_type": "text"
      },
      "source": [
        "집합 자료형의 특징\n",
        " 1. 중복을 허용하지 않는다.\n",
        " 2. 순서가 없다(Unordered)."
      ]
    },
    {
      "cell_type": "markdown",
      "metadata": {
        "id": "a4dDfiZ_elcf",
        "colab_type": "text"
      },
      "source": [
        "set 자료형은 순서가 없기(unordered) 때문에 인덱싱으로 값을 얻을 수 없다."
      ]
    },
    {
      "cell_type": "code",
      "metadata": {
        "id": "6ruakcAheazb",
        "colab_type": "code",
        "outputId": "6318b2b9-e212-41a0-d495-ff4878f23ab6",
        "colab": {
          "base_uri": "https://localhost:8080/",
          "height": 190
        }
      },
      "source": [
        "s1 = set([1,2,3])\n",
        "s1[0]\n",
        "#not support indexing"
      ],
      "execution_count": 0,
      "outputs": [
        {
          "output_type": "error",
          "ename": "TypeError",
          "evalue": "ignored",
          "traceback": [
            "\u001b[0;31m---------------------------------------------------------------------------\u001b[0m",
            "\u001b[0;31mTypeError\u001b[0m                                 Traceback (most recent call last)",
            "\u001b[0;32m<ipython-input-4-23f253cae5c5>\u001b[0m in \u001b[0;36m<module>\u001b[0;34m()\u001b[0m\n\u001b[1;32m      1\u001b[0m \u001b[0ms1\u001b[0m \u001b[0;34m=\u001b[0m \u001b[0mset\u001b[0m\u001b[0;34m(\u001b[0m\u001b[0;34m[\u001b[0m\u001b[0;36m1\u001b[0m\u001b[0;34m,\u001b[0m\u001b[0;36m2\u001b[0m\u001b[0;34m,\u001b[0m\u001b[0;36m3\u001b[0m\u001b[0;34m]\u001b[0m\u001b[0;34m)\u001b[0m\u001b[0;34m\u001b[0m\u001b[0;34m\u001b[0m\u001b[0m\n\u001b[0;32m----> 2\u001b[0;31m \u001b[0ms1\u001b[0m\u001b[0;34m[\u001b[0m\u001b[0;36m0\u001b[0m\u001b[0;34m]\u001b[0m\u001b[0;34m\u001b[0m\u001b[0;34m\u001b[0m\u001b[0m\n\u001b[0m",
            "\u001b[0;31mTypeError\u001b[0m: 'set' object does not support indexing"
          ]
        }
      ]
    },
    {
      "cell_type": "code",
      "metadata": {
        "id": "qLSKJwVWe4pc",
        "colab_type": "code",
        "outputId": "07c2f6d1-19aa-44ae-c3e1-19772b89bf13",
        "colab": {
          "base_uri": "https://localhost:8080/",
          "height": 35
        }
      },
      "source": [
        "#셋 구조를 인덱싱하려면 강제로 list 로 바꿔 주어야함\n",
        "l1=list(s1)\n",
        "\n",
        "l1"
      ],
      "execution_count": 0,
      "outputs": [
        {
          "output_type": "execute_result",
          "data": {
            "text/plain": [
              "[1, 2, 3]"
            ]
          },
          "metadata": {
            "tags": []
          },
          "execution_count": 5
        }
      ]
    },
    {
      "cell_type": "code",
      "metadata": {
        "id": "-x6C4o0Be77G",
        "colab_type": "code",
        "outputId": "12b5109a-2b62-4077-ffbe-da5a598077b3",
        "colab": {
          "base_uri": "https://localhost:8080/",
          "height": 35
        }
      },
      "source": [
        "#또는 튜플로 바꿔 주어야함\n",
        "t1=tuple(s1)\n",
        "\n",
        "t1\n",
        "t1[0]"
      ],
      "execution_count": 0,
      "outputs": [
        {
          "output_type": "execute_result",
          "data": {
            "text/plain": [
              "1"
            ]
          },
          "metadata": {
            "tags": []
          },
          "execution_count": 7
        }
      ]
    },
    {
      "cell_type": "markdown",
      "metadata": {
        "id": "Lhw2UE88fak-",
        "colab_type": "text"
      },
      "source": [
        "교집합, 합집합, 차집합 구하기"
      ]
    },
    {
      "cell_type": "code",
      "metadata": {
        "id": "UyBU0XW_fOe6",
        "colab_type": "code",
        "colab": {}
      },
      "source": [
        "s1 = set([1, 2, 3, 4, 5, 6])\n",
        "s2 = set([4, 5, 6, 7, 8, 9])\n",
        "\n"
      ],
      "execution_count": 0,
      "outputs": []
    },
    {
      "cell_type": "code",
      "metadata": {
        "id": "jb1L5ff2ffyl",
        "colab_type": "code",
        "outputId": "a29d9a49-9f76-4b37-b83d-49310f02ce2f",
        "colab": {
          "base_uri": "https://localhost:8080/",
          "height": 35
        }
      },
      "source": [
        "# 1. 교집합\n",
        "#\n",
        "s1 & s2,s1.intersection(s2)\n",
        "\n",
        "\n",
        "\n",
        "\n"
      ],
      "execution_count": 0,
      "outputs": [
        {
          "output_type": "execute_result",
          "data": {
            "text/plain": [
              "({4, 5, 6}, {4, 5, 6})"
            ]
          },
          "metadata": {
            "tags": []
          },
          "execution_count": 12
        }
      ]
    },
    {
      "cell_type": "markdown",
      "metadata": {
        "id": "JSoVXXykfvV1",
        "colab_type": "text"
      },
      "source": [
        "2. 합집합"
      ]
    },
    {
      "cell_type": "code",
      "metadata": {
        "id": "l0xUvW7yfjc1",
        "colab_type": "code",
        "outputId": "068534b5-5b29-4bf0-8171-c463b58db072",
        "colab": {
          "base_uri": "https://localhost:8080/",
          "height": 35
        }
      },
      "source": [
        "s1 | s2"
      ],
      "execution_count": 0,
      "outputs": [
        {
          "output_type": "execute_result",
          "data": {
            "text/plain": [
              "{1, 2, 3, 4, 5, 6, 7, 8, 9}"
            ]
          },
          "metadata": {
            "tags": []
          },
          "execution_count": 13
        }
      ]
    },
    {
      "cell_type": "code",
      "metadata": {
        "id": "jE9sTsYrfzKX",
        "colab_type": "code",
        "outputId": "ab70e6ea-439d-43fe-b8c9-a52fb1b6c3e7",
        "colab": {
          "base_uri": "https://localhost:8080/",
          "height": 35
        }
      },
      "source": [
        "s1.union(s2)"
      ],
      "execution_count": 0,
      "outputs": [
        {
          "output_type": "execute_result",
          "data": {
            "text/plain": [
              "{1, 2, 3, 4, 5, 6, 7, 8, 9}"
            ]
          },
          "metadata": {
            "tags": []
          },
          "execution_count": 14
        }
      ]
    },
    {
      "cell_type": "markdown",
      "metadata": {
        "id": "6K_NB71Sf4cN",
        "colab_type": "text"
      },
      "source": [
        "3. 차집합"
      ]
    },
    {
      "cell_type": "code",
      "metadata": {
        "id": "CSr3Vcfbf3aC",
        "colab_type": "code",
        "outputId": "3e348900-8220-4233-bc43-6c1338426ac6",
        "colab": {
          "base_uri": "https://localhost:8080/",
          "height": 35
        }
      },
      "source": [
        "s1 - s2,s2 - s1,s1.difference(s2),s2.difference(s1)"
      ],
      "execution_count": 0,
      "outputs": [
        {
          "output_type": "execute_result",
          "data": {
            "text/plain": [
              "({1, 2, 3}, {7, 8, 9}, {1, 2, 3}, {7, 8, 9})"
            ]
          },
          "metadata": {
            "tags": []
          },
          "execution_count": 15
        }
      ]
    },
    {
      "cell_type": "markdown",
      "metadata": {
        "id": "GxHi8yNQgELF",
        "colab_type": "text"
      },
      "source": [
        "##Set 관련 내장함수\n"
      ]
    },
    {
      "cell_type": "markdown",
      "metadata": {
        "id": "8ZF7dXgggOS9",
        "colab_type": "text"
      },
      "source": [
        "값 1개 추가하기(add)"
      ]
    },
    {
      "cell_type": "code",
      "metadata": {
        "id": "7DAtGFisgLP0",
        "colab_type": "code",
        "outputId": "50804d06-b27d-4086-fb4b-03f881450eb6",
        "colab": {
          "base_uri": "https://localhost:8080/",
          "height": 35
        }
      },
      "source": [
        "s1 = set([1, 2, 3])\n",
        "s1.add(4)\n",
        "s1"
      ],
      "execution_count": 0,
      "outputs": [
        {
          "output_type": "execute_result",
          "data": {
            "text/plain": [
              "{1, 2, 3, 4}"
            ]
          },
          "metadata": {
            "tags": []
          },
          "execution_count": 16
        }
      ]
    },
    {
      "cell_type": "markdown",
      "metadata": {
        "id": "RrN7yc1IgrzM",
        "colab_type": "text"
      },
      "source": [
        "값 여러 개 추가하기(update)"
      ]
    },
    {
      "cell_type": "code",
      "metadata": {
        "id": "GGEErc-PgpWM",
        "colab_type": "code",
        "outputId": "91a61c66-4b05-46a6-f292-21094e3362fe",
        "colab": {
          "base_uri": "https://localhost:8080/",
          "height": 35
        }
      },
      "source": [
        "s1 = set([1, 2, 3])\n",
        "s1.update([4,5,6])\n",
        "s1\n",
        "s1.add(5)\n",
        "s1"
      ],
      "execution_count": 0,
      "outputs": [
        {
          "output_type": "execute_result",
          "data": {
            "text/plain": [
              "{1, 2, 3, 4, 5, 6}"
            ]
          },
          "metadata": {
            "tags": []
          },
          "execution_count": 17
        }
      ]
    },
    {
      "cell_type": "markdown",
      "metadata": {
        "id": "Q9nXCT85gxRD",
        "colab_type": "text"
      },
      "source": [
        "특정 값 제거하기(remove)"
      ]
    },
    {
      "cell_type": "code",
      "metadata": {
        "id": "pLOXZirygvex",
        "colab_type": "code",
        "outputId": "b4e96fe3-13bd-4d61-fc6a-4db330daff7a",
        "colab": {
          "base_uri": "https://localhost:8080/",
          "height": 35
        }
      },
      "source": [
        "s1 = set([1, 2, 3])\n",
        "s1.remove(2)\n",
        "s1"
      ],
      "execution_count": 0,
      "outputs": [
        {
          "output_type": "execute_result",
          "data": {
            "text/plain": [
              "{1, 3}"
            ]
          },
          "metadata": {
            "tags": []
          },
          "execution_count": 18
        }
      ]
    }
  ]
}