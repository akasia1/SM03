{
  "nbformat": 4,
  "nbformat_minor": 0,
  "metadata": {
    "colab": {
      "name": "ch2_04_05_list.ipynb",
      "provenance": [],
      "collapsed_sections": [],
      "include_colab_link": true
    },
    "kernelspec": {
      "name": "python3",
      "display_name": "Python 3"
    }
  },
  "cells": [
    {
      "cell_type": "markdown",
      "metadata": {
        "id": "view-in-github",
        "colab_type": "text"
      },
      "source": [
        "<a href=\"https://colab.research.google.com/github/akasia1/SM03/blob/master/ch02/ch2_04_05_list.ipynb\" target=\"_parent\"><img src=\"https://colab.research.google.com/assets/colab-badge.svg\" alt=\"Open In Colab\"/></a>"
      ]
    },
    {
      "cell_type": "markdown",
      "metadata": {
        "id": "mgyzdFR1KJnn",
        "colab_type": "text"
      },
      "source": [
        "##리스트"
      ]
    },
    {
      "cell_type": "code",
      "metadata": {
        "id": "Vb1hVVokJ-Y8",
        "colab_type": "code",
        "outputId": "598c426b-b00f-49ca-9b5e-5802ebda4d6d",
        "colab": {
          "base_uri": "https://localhost:8080/",
          "height": 143
        }
      },
      "source": [
        "print(\"리스트: list 란?\")\n",
        "odd = [1, 3, 5, 7, 9]\n",
        "# 여러 가지 리스트\n",
        "a = []   # list 초기화\n",
        "b = [1, 2, 3]\n",
        "c = ['Life', 'is', 'too', 'short']\n",
        "d = [1, 2, 'Life', 'is']\n",
        "e = [1, 2, ['Life', 'is']]\n",
        "\n",
        "a = list()\n",
        "a   # []\n",
        "odd,a,b,c,d,e"
      ],
      "execution_count": 0,
      "outputs": [
        {
          "output_type": "stream",
          "text": [
            "리스트: list 란?\n"
          ],
          "name": "stdout"
        },
        {
          "output_type": "execute_result",
          "data": {
            "text/plain": [
              "([1, 3, 5, 7, 9],\n",
              " [],\n",
              " [1, 2, 3],\n",
              " ['Life', 'is', 'too', 'short'],\n",
              " [1, 2, 'Life', 'is'],\n",
              " [1, 2, ['Life', 'is']])"
            ]
          },
          "metadata": {
            "tags": []
          },
          "execution_count": 5
        }
      ]
    },
    {
      "cell_type": "markdown",
      "metadata": {
        "id": "0DPcxJcQK4X9",
        "colab_type": "text"
      },
      "source": [
        "리스트의 인덱싱과 슬라이싱"
      ]
    },
    {
      "cell_type": "code",
      "metadata": {
        "id": "EGekIRLTKX2j",
        "colab_type": "code",
        "outputId": "f5b8a814-dc0c-45b7-a476-0be97eac29fc",
        "colab": {
          "base_uri": "https://localhost:8080/",
          "height": 53
        }
      },
      "source": [
        "print(\"리스트: 리스트의 인덱싱과 슬라이싱\")\n",
        "a = [1, 2, 3]\n",
        "a\n"
      ],
      "execution_count": 0,
      "outputs": [
        {
          "output_type": "stream",
          "text": [
            "리스트: 리스트의 인덱싱과 슬라이싱\n"
          ],
          "name": "stdout"
        },
        {
          "output_type": "execute_result",
          "data": {
            "text/plain": [
              "[1, 2, 3]"
            ]
          },
          "metadata": {
            "tags": []
          },
          "execution_count": 7
        }
      ]
    },
    {
      "cell_type": "code",
      "metadata": {
        "id": "7d1NVkycLdAW",
        "colab_type": "code",
        "outputId": "6bcff8ea-a9dd-4ce5-b820-9a0a12c67439",
        "colab": {
          "base_uri": "https://localhost:8080/",
          "height": 172
        }
      },
      "source": [
        "a[3]"
      ],
      "execution_count": 0,
      "outputs": [
        {
          "output_type": "error",
          "ename": "IndexError",
          "evalue": "ignored",
          "traceback": [
            "\u001b[0;31m---------------------------------------------------------------------------\u001b[0m",
            "\u001b[0;31mIndexError\u001b[0m                                Traceback (most recent call last)",
            "\u001b[0;32m<ipython-input-14-f75b6be7d8e3>\u001b[0m in \u001b[0;36m<module>\u001b[0;34m()\u001b[0m\n\u001b[0;32m----> 1\u001b[0;31m \u001b[0ma\u001b[0m\u001b[0;34m[\u001b[0m\u001b[0;36m3\u001b[0m\u001b[0;34m]\u001b[0m\u001b[0;34m\u001b[0m\u001b[0;34m\u001b[0m\u001b[0m\n\u001b[0m",
            "\u001b[0;31mIndexError\u001b[0m: list index out of range"
          ]
        }
      ]
    },
    {
      "cell_type": "code",
      "metadata": {
        "id": "ExqfrjCwK7Hl",
        "colab_type": "code",
        "outputId": "c49b869b-3ea6-40e1-d79f-3d5420ff3e7b",
        "colab": {
          "base_uri": "https://localhost:8080/",
          "height": 35
        }
      },
      "source": [
        "a[0]\n",
        "\n"
      ],
      "execution_count": 0,
      "outputs": [
        {
          "output_type": "execute_result",
          "data": {
            "text/plain": [
              "1"
            ]
          },
          "metadata": {
            "tags": []
          },
          "execution_count": 13
        }
      ]
    },
    {
      "cell_type": "code",
      "metadata": {
        "id": "kyOWw-kvLhj1",
        "colab_type": "code",
        "outputId": "f1d1e63b-6526-4a0a-d118-3ac758ad87a4",
        "colab": {
          "base_uri": "https://localhost:8080/",
          "height": 35
        }
      },
      "source": [
        "a[-1]"
      ],
      "execution_count": 0,
      "outputs": [
        {
          "output_type": "execute_result",
          "data": {
            "text/plain": [
              "3"
            ]
          },
          "metadata": {
            "tags": []
          },
          "execution_count": 15
        }
      ]
    },
    {
      "cell_type": "code",
      "metadata": {
        "id": "IXjNlxrWLJ48",
        "colab_type": "code",
        "outputId": "18db6830-3fdb-4b4d-9401-cd38d349d534",
        "colab": {
          "base_uri": "https://localhost:8080/",
          "height": 35
        }
      },
      "source": [
        "a = [1, 2, 3, ['a', 'b', 'c']]\n",
        "a[0],a[3],a[-1]\n"
      ],
      "execution_count": 0,
      "outputs": [
        {
          "output_type": "execute_result",
          "data": {
            "text/plain": [
              "(1, ['a', 'b', 'c'], ['a', 'b', 'c'])"
            ]
          },
          "metadata": {
            "tags": []
          },
          "execution_count": 18
        }
      ]
    },
    {
      "cell_type": "code",
      "metadata": {
        "id": "HmAz9NrwLm6M",
        "colab_type": "code",
        "outputId": "62502958-da96-4a00-df34-bb71a7efdb13",
        "colab": {
          "base_uri": "https://localhost:8080/",
          "height": 35
        }
      },
      "source": [
        "# chaek this: a[0] + a[-1] -> TypeError\n",
        "# Indexing inner list\n",
        "a[-1][0],a[-1][-1]\n"
      ],
      "execution_count": 0,
      "outputs": [
        {
          "output_type": "execute_result",
          "data": {
            "text/plain": [
              "('a', 'c')"
            ]
          },
          "metadata": {
            "tags": []
          },
          "execution_count": 19
        }
      ]
    },
    {
      "cell_type": "code",
      "metadata": {
        "id": "atkEdsMQL35r",
        "colab_type": "code",
        "outputId": "a3fac6ba-2d25-40ae-a184-498c9073f623",
        "colab": {
          "base_uri": "https://localhost:8080/",
          "height": 35
        }
      },
      "source": [
        "# Indexing of triple list\n",
        "# 삼중 리스트에서 인덱싱하기\n",
        "a = [1, 2, ['a', 'b', ['Life', 'is']]]\n",
        "a[2],a[2][-1],a[2][-1][0]   "
      ],
      "execution_count": 0,
      "outputs": [
        {
          "output_type": "execute_result",
          "data": {
            "text/plain": [
              "(['a', 'b', ['Life', 'is']], ['Life', 'is'], 'Life')"
            ]
          },
          "metadata": {
            "tags": []
          },
          "execution_count": 22
        }
      ]
    },
    {
      "cell_type": "markdown",
      "metadata": {
        "id": "ogOuD4wDMSOe",
        "colab_type": "text"
      },
      "source": [
        " 리스트의 슬라이싱"
      ]
    },
    {
      "cell_type": "code",
      "metadata": {
        "id": "s0FXtVOXMCyI",
        "colab_type": "code",
        "outputId": "a1c721b3-f7f0-4ad2-acd3-f87962a155f8",
        "colab": {
          "base_uri": "https://localhost:8080/",
          "height": 35
        }
      },
      "source": [
        "a = [1, 2, 3, 4, 5]\n",
        "a[0:2]\n"
      ],
      "execution_count": 0,
      "outputs": [
        {
          "output_type": "execute_result",
          "data": {
            "text/plain": [
              "[1, 2]"
            ]
          },
          "metadata": {
            "tags": []
          },
          "execution_count": 23
        }
      ]
    },
    {
      "cell_type": "code",
      "metadata": {
        "id": "zMDO97MqMQpM",
        "colab_type": "code",
        "outputId": "8b1278a9-ed1c-4336-ca4e-f9d8a4c45f00",
        "colab": {
          "base_uri": "https://localhost:8080/",
          "height": 35
        }
      },
      "source": [
        "a = \"12345\"\n",
        "a[0:2]"
      ],
      "execution_count": 0,
      "outputs": [
        {
          "output_type": "execute_result",
          "data": {
            "text/plain": [
              "'12'"
            ]
          },
          "metadata": {
            "tags": []
          },
          "execution_count": 24
        }
      ]
    },
    {
      "cell_type": "code",
      "metadata": {
        "id": "z_1bbYCDMZJX",
        "colab_type": "code",
        "outputId": "2e33f98d-fc71-4930-c446-b110ad828f7d",
        "colab": {
          "base_uri": "https://localhost:8080/",
          "height": 35
        }
      },
      "source": [
        "a = [1, 2, 3, 4, 5]\n",
        "a[0:2],a[2:],a[0:4:2]  # a[start:end:step]"
      ],
      "execution_count": 0,
      "outputs": [
        {
          "output_type": "execute_result",
          "data": {
            "text/plain": [
              "([1, 2], [3, 4, 5], [1, 3])"
            ]
          },
          "metadata": {
            "tags": []
          },
          "execution_count": 25
        }
      ]
    },
    {
      "cell_type": "markdown",
      "metadata": {
        "id": "RtiyWxXwMkp7",
        "colab_type": "text"
      },
      "source": [
        "중첩된 리스트에서 슬라이싱하기"
      ]
    },
    {
      "cell_type": "code",
      "metadata": {
        "id": "bIrd1FOzMkYD",
        "colab_type": "code",
        "outputId": "d4da70da-91a9-4f19-8e61-e02739319fe0",
        "colab": {
          "base_uri": "https://localhost:8080/",
          "height": 35
        }
      },
      "source": [
        "a = [1, 2, 3, ['a', 'b', 'c'], 4, 5]\n",
        "a[2:5],a[3][:2]"
      ],
      "execution_count": 0,
      "outputs": [
        {
          "output_type": "execute_result",
          "data": {
            "text/plain": [
              "([3, ['a', 'b', 'c'], 4], ['a', 'b'])"
            ]
          },
          "metadata": {
            "tags": []
          },
          "execution_count": 26
        }
      ]
    },
    {
      "cell_type": "markdown",
      "metadata": {
        "id": "BFEqKROcMzIi",
        "colab_type": "text"
      },
      "source": [
        "리스트 인덱싱 슬라이싱 연습\n"
      ]
    },
    {
      "cell_type": "code",
      "metadata": {
        "id": "CshmbGJtMuWf",
        "colab_type": "code",
        "outputId": "7917b0c8-8e3e-4002-df2b-9355ccdb33ef",
        "colab": {
          "base_uri": "https://localhost:8080/",
          "height": 35
        }
      },
      "source": [
        "x = [1, 2, 3, 4, 5, 6, 7, 8, 9]\n",
        "x[0:3],x[3:],x[:6],x[0:6:2]  # x[:6:2],x[-1],x[-3],x[:-3],x[::-1],x[-3::-1]"
      ],
      "execution_count": 0,
      "outputs": [
        {
          "output_type": "execute_result",
          "data": {
            "text/plain": [
              "([1, 2, 3], [4, 5, 6, 7, 8, 9], [1, 2, 3, 4, 5, 6], [1, 3, 5])"
            ]
          },
          "metadata": {
            "tags": []
          },
          "execution_count": 27
        }
      ]
    },
    {
      "cell_type": "code",
      "metadata": {
        "id": "g4iFdzCaM_8m",
        "colab_type": "code",
        "outputId": "209f6a52-878b-4949-ff8f-b6e087c03293",
        "colab": {
          "base_uri": "https://localhost:8080/",
          "height": 125
        }
      },
      "source": [
        " x[:6:2],x[-1],x[-3],x[:-3],x[::-1],x[-3::-1]"
      ],
      "execution_count": 0,
      "outputs": [
        {
          "output_type": "execute_result",
          "data": {
            "text/plain": [
              "([1, 3, 5],\n",
              " 9,\n",
              " 7,\n",
              " [1, 2, 3, 4, 5, 6],\n",
              " [9, 8, 7, 6, 5, 4, 3, 2, 1],\n",
              " [7, 6, 5, 4, 3, 2, 1])"
            ]
          },
          "metadata": {
            "tags": []
          },
          "execution_count": 28
        }
      ]
    },
    {
      "cell_type": "markdown",
      "metadata": {
        "id": "gDXLVOjdNRdC",
        "colab_type": "text"
      },
      "source": [
        "리스트 연산하기\n"
      ]
    },
    {
      "cell_type": "markdown",
      "metadata": {
        "id": "1PoBRuc7NZTi",
        "colab_type": "text"
      },
      "source": [
        "리스트 더하기\n"
      ]
    },
    {
      "cell_type": "code",
      "metadata": {
        "id": "CPuAhGc0NF1e",
        "colab_type": "code",
        "outputId": "2a0c004a-5247-4a09-8561-bed988465ebb",
        "colab": {
          "base_uri": "https://localhost:8080/",
          "height": 35
        }
      },
      "source": [
        "a = [1, 2, 3]\n",
        "b = [4, 5, 6]\n",
        "a + b"
      ],
      "execution_count": 0,
      "outputs": [
        {
          "output_type": "execute_result",
          "data": {
            "text/plain": [
              "[1, 2, 3, 4, 5, 6]"
            ]
          },
          "metadata": {
            "tags": []
          },
          "execution_count": 29
        }
      ]
    },
    {
      "cell_type": "markdown",
      "metadata": {
        "id": "tF8aGuBBNbTi",
        "colab_type": "text"
      },
      "source": [
        "리스트 반복하기\n"
      ]
    },
    {
      "cell_type": "code",
      "metadata": {
        "id": "HTuKs4lkNT5D",
        "colab_type": "code",
        "outputId": "047d6786-3209-4a4e-ac5d-66d26fea3ed2",
        "colab": {
          "base_uri": "https://localhost:8080/",
          "height": 35
        }
      },
      "source": [
        "a * 3"
      ],
      "execution_count": 0,
      "outputs": [
        {
          "output_type": "execute_result",
          "data": {
            "text/plain": [
              "[1, 2, 3, 1, 2, 3, 1, 2, 3]"
            ]
          },
          "metadata": {
            "tags": []
          },
          "execution_count": 30
        }
      ]
    },
    {
      "cell_type": "markdown",
      "metadata": {
        "id": "zTADzbLQNifS",
        "colab_type": "text"
      },
      "source": [
        "리스트 길이구하기"
      ]
    },
    {
      "cell_type": "code",
      "metadata": {
        "id": "h1bmV_HsNgel",
        "colab_type": "code",
        "outputId": "7fe04749-f450-491b-9286-156da540e8e5",
        "colab": {
          "base_uri": "https://localhost:8080/",
          "height": 35
        }
      },
      "source": [
        "len(a)\n"
      ],
      "execution_count": 0,
      "outputs": [
        {
          "output_type": "execute_result",
          "data": {
            "text/plain": [
              "3"
            ]
          },
          "metadata": {
            "tags": []
          },
          "execution_count": 31
        }
      ]
    },
    {
      "cell_type": "markdown",
      "metadata": {
        "id": "jzDNjZTwNo0S",
        "colab_type": "text"
      },
      "source": [
        "초보자가 범하기 쉬운 리스트 연산 오류"
      ]
    },
    {
      "cell_type": "code",
      "metadata": {
        "id": "02VmVsy2Nkvz",
        "colab_type": "code",
        "outputId": "1bb73d66-116c-489d-8de1-b2a8f0c98152",
        "colab": {
          "base_uri": "https://localhost:8080/",
          "height": 208
        }
      },
      "source": [
        "a = [1, 2, 3]\n",
        "a[2] + \"hi\"\n",
        "str(a[2]) + \"hi\""
      ],
      "execution_count": 0,
      "outputs": [
        {
          "output_type": "error",
          "ename": "TypeError",
          "evalue": "ignored",
          "traceback": [
            "\u001b[0;31m---------------------------------------------------------------------------\u001b[0m",
            "\u001b[0;31mTypeError\u001b[0m                                 Traceback (most recent call last)",
            "\u001b[0;32m<ipython-input-32-2a663008ffda>\u001b[0m in \u001b[0;36m<module>\u001b[0;34m()\u001b[0m\n\u001b[1;32m      1\u001b[0m \u001b[0ma\u001b[0m \u001b[0;34m=\u001b[0m \u001b[0;34m[\u001b[0m\u001b[0;36m1\u001b[0m\u001b[0;34m,\u001b[0m \u001b[0;36m2\u001b[0m\u001b[0;34m,\u001b[0m \u001b[0;36m3\u001b[0m\u001b[0;34m]\u001b[0m\u001b[0;34m\u001b[0m\u001b[0;34m\u001b[0m\u001b[0m\n\u001b[0;32m----> 2\u001b[0;31m \u001b[0ma\u001b[0m\u001b[0;34m[\u001b[0m\u001b[0;36m2\u001b[0m\u001b[0;34m]\u001b[0m \u001b[0;34m+\u001b[0m \u001b[0;34m\"hi\"\u001b[0m\u001b[0;34m\u001b[0m\u001b[0;34m\u001b[0m\u001b[0m\n\u001b[0m\u001b[1;32m      3\u001b[0m \u001b[0mstr\u001b[0m\u001b[0;34m(\u001b[0m\u001b[0ma\u001b[0m\u001b[0;34m[\u001b[0m\u001b[0;36m2\u001b[0m\u001b[0;34m]\u001b[0m\u001b[0;34m)\u001b[0m \u001b[0;34m+\u001b[0m \u001b[0;34m\"hi\"\u001b[0m\u001b[0;34m\u001b[0m\u001b[0;34m\u001b[0m\u001b[0m\n",
            "\u001b[0;31mTypeError\u001b[0m: unsupported operand type(s) for +: 'int' and 'str'"
          ]
        }
      ]
    },
    {
      "cell_type": "markdown",
      "metadata": {
        "id": "AEq3A6iPNx1M",
        "colab_type": "text"
      },
      "source": [
        "리스트 수정 삭제\n"
      ]
    },
    {
      "cell_type": "code",
      "metadata": {
        "id": "2LioiO_INu2G",
        "colab_type": "code",
        "outputId": "64bc47fa-80a2-4e61-de0f-3138b484437a",
        "colab": {
          "base_uri": "https://localhost:8080/",
          "height": 35
        }
      },
      "source": [
        "a = [1, 2, 3]\n",
        "a[2] = 4  # list is mutable!!!\n",
        "a"
      ],
      "execution_count": 0,
      "outputs": [
        {
          "output_type": "execute_result",
          "data": {
            "text/plain": [
              "[1, 2, 4]"
            ]
          },
          "metadata": {
            "tags": []
          },
          "execution_count": 33
        }
      ]
    },
    {
      "cell_type": "markdown",
      "metadata": {
        "id": "iUVjVmOEN5lk",
        "colab_type": "text"
      },
      "source": [
        "del 함수 사용하여 리스트 요소 삭제\n"
      ]
    },
    {
      "cell_type": "code",
      "metadata": {
        "id": "DRcnAbY7N2fj",
        "colab_type": "code",
        "outputId": "8a9d234c-d6cb-40db-eb58-12f110f8a1aa",
        "colab": {
          "base_uri": "https://localhost:8080/",
          "height": 35
        }
      },
      "source": [
        "a = [1, 2, 3]\n",
        "del a[1]\n",
        "a"
      ],
      "execution_count": 0,
      "outputs": [
        {
          "output_type": "execute_result",
          "data": {
            "text/plain": [
              "[1, 3]"
            ]
          },
          "metadata": {
            "tags": []
          },
          "execution_count": 34
        }
      ]
    },
    {
      "cell_type": "code",
      "metadata": {
        "id": "YYcG9b4gOCcn",
        "colab_type": "code",
        "outputId": "6e874110-4461-45fd-ba8c-721bb15e60fb",
        "colab": {
          "base_uri": "https://localhost:8080/",
          "height": 35
        }
      },
      "source": [
        "a = [1, 2, 3, 4, 5]\n",
        "del a[2:]\n",
        "a"
      ],
      "execution_count": 0,
      "outputs": [
        {
          "output_type": "execute_result",
          "data": {
            "text/plain": [
              "[1, 2]"
            ]
          },
          "metadata": {
            "tags": []
          },
          "execution_count": 35
        }
      ]
    },
    {
      "cell_type": "markdown",
      "metadata": {
        "id": "Ib2qZS1yOIYh",
        "colab_type": "text"
      },
      "source": [
        "리스트 내부함수 이용"
      ]
    },
    {
      "cell_type": "code",
      "metadata": {
        "id": "jpfZcYmtOF8k",
        "colab_type": "code",
        "outputId": "04200a37-f328-486f-b204-33f31a77ebad",
        "colab": {
          "base_uri": "https://localhost:8080/",
          "height": 35
        }
      },
      "source": [
        "a = [1, 2, 3]\n",
        "a.append(4)\n",
        "a"
      ],
      "execution_count": 0,
      "outputs": [
        {
          "output_type": "execute_result",
          "data": {
            "text/plain": [
              "[1, 2, 3, 4]"
            ]
          },
          "metadata": {
            "tags": []
          },
          "execution_count": 36
        }
      ]
    },
    {
      "cell_type": "code",
      "metadata": {
        "id": "9l4of-uEQeq8",
        "colab_type": "code",
        "outputId": "a6662ec6-786d-4187-8734-fca7a68e7a6b",
        "colab": {
          "base_uri": "https://localhost:8080/",
          "height": 35
        }
      },
      "source": [
        "a.append([5, 6])\n",
        "a"
      ],
      "execution_count": 0,
      "outputs": [
        {
          "output_type": "execute_result",
          "data": {
            "text/plain": [
              "[1, 2, 3, 4, [5, 6]]"
            ]
          },
          "metadata": {
            "tags": []
          },
          "execution_count": 37
        }
      ]
    },
    {
      "cell_type": "markdown",
      "metadata": {
        "id": "miMJ8AAIRbsU",
        "colab_type": "text"
      },
      "source": [
        "리스트 정렬"
      ]
    },
    {
      "cell_type": "code",
      "metadata": {
        "id": "YA4Vr2ZvRXpd",
        "colab_type": "code",
        "outputId": "4edf16a8-b20d-4d17-ceb6-f532f4583ec9",
        "colab": {
          "base_uri": "https://localhost:8080/",
          "height": 35
        }
      },
      "source": [
        "a = [1, 4, 3, 2]\n",
        "a.sort()\n",
        "a"
      ],
      "execution_count": 0,
      "outputs": [
        {
          "output_type": "execute_result",
          "data": {
            "text/plain": [
              "[1, 2, 3, 4]"
            ]
          },
          "metadata": {
            "tags": []
          },
          "execution_count": 45
        }
      ]
    },
    {
      "cell_type": "code",
      "metadata": {
        "id": "8vRn-9zsR_Az",
        "colab_type": "code",
        "outputId": "1572e353-58e2-4ee9-99b2-4119158ea9b8",
        "colab": {
          "base_uri": "https://localhost:8080/",
          "height": 35
        }
      },
      "source": [
        "a.reverse()\n",
        "a\n"
      ],
      "execution_count": 0,
      "outputs": [
        {
          "output_type": "execute_result",
          "data": {
            "text/plain": [
              "[4, 3, 2, 1]"
            ]
          },
          "metadata": {
            "tags": []
          },
          "execution_count": 46
        }
      ]
    },
    {
      "cell_type": "code",
      "metadata": {
        "id": "0MdyMX70Ri_C",
        "colab_type": "code",
        "outputId": "41db628b-0021-428b-d7ad-37b40ffa677e",
        "colab": {
          "base_uri": "https://localhost:8080/",
          "height": 35
        }
      },
      "source": [
        "s = [\"a\", \"c\", \"b\"]\n",
        "s.sort()\n",
        "s"
      ],
      "execution_count": 0,
      "outputs": [
        {
          "output_type": "execute_result",
          "data": {
            "text/plain": [
              "['a', 'b', 'c']"
            ]
          },
          "metadata": {
            "tags": []
          },
          "execution_count": 47
        }
      ]
    },
    {
      "cell_type": "markdown",
      "metadata": {
        "id": "LSpeQ6PzRork",
        "colab_type": "text"
      },
      "source": [
        "리스트 뒤집기"
      ]
    },
    {
      "cell_type": "code",
      "metadata": {
        "id": "6gAVQRQbRn5K",
        "colab_type": "code",
        "outputId": "8d7b5fbd-036f-444c-ef03-c7618bdf944c",
        "colab": {
          "base_uri": "https://localhost:8080/",
          "height": 35
        }
      },
      "source": [
        "a = [\"a\", \"c\", \"b\"]\n",
        "a.reverse()\n",
        "a"
      ],
      "execution_count": 0,
      "outputs": [
        {
          "output_type": "execute_result",
          "data": {
            "text/plain": [
              "['b', 'c', 'a']"
            ]
          },
          "metadata": {
            "tags": []
          },
          "execution_count": 48
        }
      ]
    },
    {
      "cell_type": "markdown",
      "metadata": {
        "id": "aMofGkQYRujL",
        "colab_type": "text"
      },
      "source": [
        "위치 반환"
      ]
    },
    {
      "cell_type": "code",
      "metadata": {
        "id": "NxFPy4ynRsUm",
        "colab_type": "code",
        "outputId": "5e73f403-5122-48d8-e920-b726f7ba74d3",
        "colab": {
          "base_uri": "https://localhost:8080/",
          "height": 35
        }
      },
      "source": [
        "# index 0, 1, 2 value 1,2,3\n",
        "a = [1, 2, 3]\n",
        "a.index(3)"
      ],
      "execution_count": 0,
      "outputs": [
        {
          "output_type": "execute_result",
          "data": {
            "text/plain": [
              "2"
            ]
          },
          "metadata": {
            "tags": []
          },
          "execution_count": 51
        }
      ]
    },
    {
      "cell_type": "code",
      "metadata": {
        "id": "vwNAi7TpSNpM",
        "colab_type": "code",
        "outputId": "3c570a31-1e86-4079-83d6-d78258e83ffc",
        "colab": {
          "base_uri": "https://localhost:8080/",
          "height": 35
        }
      },
      "source": [
        "a.index(1)"
      ],
      "execution_count": 0,
      "outputs": [
        {
          "output_type": "execute_result",
          "data": {
            "text/plain": [
              "0"
            ]
          },
          "metadata": {
            "tags": []
          },
          "execution_count": 52
        }
      ]
    },
    {
      "cell_type": "code",
      "metadata": {
        "id": "_sO4imHLSisB",
        "colab_type": "code",
        "outputId": "18e55923-de9b-433e-e8e2-8bf8eba5a6fb",
        "colab": {
          "base_uri": "https://localhost:8080/",
          "height": 172
        }
      },
      "source": [
        "#error \n",
        "a.index(0)"
      ],
      "execution_count": 0,
      "outputs": [
        {
          "output_type": "error",
          "ename": "ValueError",
          "evalue": "ignored",
          "traceback": [
            "\u001b[0;31m---------------------------------------------------------------------------\u001b[0m",
            "\u001b[0;31mValueError\u001b[0m                                Traceback (most recent call last)",
            "\u001b[0;32m<ipython-input-53-affdffa288f1>\u001b[0m in \u001b[0;36m<module>\u001b[0;34m()\u001b[0m\n\u001b[0;32m----> 1\u001b[0;31m \u001b[0ma\u001b[0m\u001b[0;34m.\u001b[0m\u001b[0mindex\u001b[0m\u001b[0;34m(\u001b[0m\u001b[0;36m0\u001b[0m\u001b[0;34m)\u001b[0m\u001b[0;34m\u001b[0m\u001b[0;34m\u001b[0m\u001b[0m\n\u001b[0m",
            "\u001b[0;31mValueError\u001b[0m: 0 is not in list"
          ]
        }
      ]
    },
    {
      "cell_type": "code",
      "metadata": {
        "id": "_R2x_I6kSnYF",
        "colab_type": "code",
        "outputId": "251a4f3d-e332-48ab-fcda-3b622b72f7f6",
        "colab": {
          "base_uri": "https://localhost:8080/",
          "height": 35
        }
      },
      "source": [
        "0 in a"
      ],
      "execution_count": 0,
      "outputs": [
        {
          "output_type": "execute_result",
          "data": {
            "text/plain": [
              "False"
            ]
          },
          "metadata": {
            "tags": []
          },
          "execution_count": 54
        }
      ]
    },
    {
      "cell_type": "markdown",
      "metadata": {
        "id": "jbHTg2kESuJ6",
        "colab_type": "text"
      },
      "source": [
        "문자형\n"
      ]
    },
    {
      "cell_type": "code",
      "metadata": {
        "id": "D-zvgdp1SpmY",
        "colab_type": "code",
        "outputId": "c733d4d6-c59a-4741-e28d-85c5a3566272",
        "colab": {
          "base_uri": "https://localhost:8080/",
          "height": 35
        }
      },
      "source": [
        "s = [\"a\", \"c\", \"b\"]\n",
        "#s.index(3)  # Error\n",
        "#s.index(a)  # Error\n",
        "s.index(\"a\")"
      ],
      "execution_count": 0,
      "outputs": [
        {
          "output_type": "execute_result",
          "data": {
            "text/plain": [
              "0"
            ]
          },
          "metadata": {
            "tags": []
          },
          "execution_count": 56
        }
      ]
    },
    {
      "cell_type": "markdown",
      "metadata": {
        "id": "acannGR6S-Rh",
        "colab_type": "text"
      },
      "source": [
        "리스트에 요소 삽입"
      ]
    },
    {
      "cell_type": "code",
      "metadata": {
        "id": "JdTNNNLxSzPH",
        "colab_type": "code",
        "outputId": "127805ee-6576-4ced-bfa7-be0c87785a88",
        "colab": {
          "base_uri": "https://localhost:8080/",
          "height": 35
        }
      },
      "source": [
        "a = [1, 2, 3]\n",
        "a.insert(0, 4)#0번 인덱스 위치에 4를 추가\n",
        "\n",
        "a"
      ],
      "execution_count": 0,
      "outputs": [
        {
          "output_type": "execute_result",
          "data": {
            "text/plain": [
              "[4, 1, 2, 3]"
            ]
          },
          "metadata": {
            "tags": []
          },
          "execution_count": 57
        }
      ]
    },
    {
      "cell_type": "code",
      "metadata": {
        "id": "nOs8ofCwTEXZ",
        "colab_type": "code",
        "outputId": "9014012c-acb4-455c-fe36-0316b7bd351e",
        "colab": {
          "base_uri": "https://localhost:8080/",
          "height": 35
        }
      },
      "source": [
        "a.insert(3, 5)#3번인덱스 위치에 5를 추가\n",
        "\n",
        "a"
      ],
      "execution_count": 0,
      "outputs": [
        {
          "output_type": "execute_result",
          "data": {
            "text/plain": [
              "[4, 1, 2, 5, 3]"
            ]
          },
          "metadata": {
            "tags": []
          },
          "execution_count": 58
        }
      ]
    },
    {
      "cell_type": "markdown",
      "metadata": {
        "id": "LVHA5gRJTW4x",
        "colab_type": "text"
      },
      "source": [
        "리스트 요소 제거"
      ]
    },
    {
      "cell_type": "code",
      "metadata": {
        "id": "IoSCZf54TGv-",
        "colab_type": "code",
        "outputId": "49c4fb77-70f2-4efb-da8a-830ddc9450f8",
        "colab": {
          "base_uri": "https://localhost:8080/",
          "height": 35
        }
      },
      "source": [
        "a = [1, 2, 3, 1, 2, 3]#value 값을 뺌\n",
        "\n",
        "a.remove(3)\n",
        "a"
      ],
      "execution_count": 0,
      "outputs": [
        {
          "output_type": "execute_result",
          "data": {
            "text/plain": [
              "[1, 2, 1, 2, 3]"
            ]
          },
          "metadata": {
            "tags": []
          },
          "execution_count": 59
        }
      ]
    },
    {
      "cell_type": "code",
      "metadata": {
        "id": "BxMpnIjtTbJl",
        "colab_type": "code",
        "outputId": "e3990148-5982-49b8-9c10-47ec10efd9f4",
        "colab": {
          "base_uri": "https://localhost:8080/",
          "height": 35
        }
      },
      "source": [
        "a.remove(3)\n",
        "a\n",
        "#value 값이 없는것을 뺄려하면 에러 발생\n"
      ],
      "execution_count": 0,
      "outputs": [
        {
          "output_type": "execute_result",
          "data": {
            "text/plain": [
              "[1, 2, 1, 2]"
            ]
          },
          "metadata": {
            "tags": []
          },
          "execution_count": 60
        }
      ]
    },
    {
      "cell_type": "markdown",
      "metadata": {
        "id": "UJqLrThJT3BK",
        "colab_type": "text"
      },
      "source": [
        "리스트요소 끄집어내기 (pop)"
      ]
    },
    {
      "cell_type": "code",
      "metadata": {
        "id": "T14IbZ1uTruq",
        "colab_type": "code",
        "outputId": "567faa85-6927-4e87-8e93-a9c4b0793131",
        "colab": {
          "base_uri": "https://localhost:8080/",
          "height": 35
        }
      },
      "source": [
        "a.pop()\n",
        "a\n",
        "#리스트의 맨 마지막 요소를 돌려주고 그요소는 삭제\n",
        "\n"
      ],
      "execution_count": 0,
      "outputs": [
        {
          "output_type": "execute_result",
          "data": {
            "text/plain": [
              "[1, 2, 1]"
            ]
          },
          "metadata": {
            "tags": []
          },
          "execution_count": 61
        }
      ]
    },
    {
      "cell_type": "code",
      "metadata": {
        "id": "gmnLjKxLT_qT",
        "colab_type": "code",
        "outputId": "85a1f075-bb3e-4bd6-9ae6-57f568379264",
        "colab": {
          "base_uri": "https://localhost:8080/",
          "height": 35
        }
      },
      "source": [
        "a = [1, 2, 3]\n",
        "# pop(x)는 리스트의 index가 x인 요소를 돌려주고 그 요소는 삭제한다.\n",
        "a.pop(1)\n",
        "a"
      ],
      "execution_count": 0,
      "outputs": [
        {
          "output_type": "execute_result",
          "data": {
            "text/plain": [
              "[1, 3]"
            ]
          },
          "metadata": {
            "tags": []
          },
          "execution_count": 62
        }
      ]
    },
    {
      "cell_type": "code",
      "metadata": {
        "id": "RPYRb4mSUMfv",
        "colab_type": "code",
        "outputId": "ac4d5999-2fe0-4231-c628-eba9e906ce33",
        "colab": {
          "base_uri": "https://localhost:8080/",
          "height": 172
        }
      },
      "source": [
        "a.pop(2)  # Index Error"
      ],
      "execution_count": 0,
      "outputs": [
        {
          "output_type": "error",
          "ename": "IndexError",
          "evalue": "ignored",
          "traceback": [
            "\u001b[0;31m---------------------------------------------------------------------------\u001b[0m",
            "\u001b[0;31mIndexError\u001b[0m                                Traceback (most recent call last)",
            "\u001b[0;32m<ipython-input-63-cd43d35adf98>\u001b[0m in \u001b[0;36m<module>\u001b[0;34m()\u001b[0m\n\u001b[0;32m----> 1\u001b[0;31m \u001b[0ma\u001b[0m\u001b[0;34m.\u001b[0m\u001b[0mpop\u001b[0m\u001b[0;34m(\u001b[0m\u001b[0;36m2\u001b[0m\u001b[0;34m)\u001b[0m  \u001b[0;31m# IndexError\u001b[0m\u001b[0;34m\u001b[0m\u001b[0;34m\u001b[0m\u001b[0m\n\u001b[0m",
            "\u001b[0;31mIndexError\u001b[0m: pop index out of range"
          ]
        }
      ]
    },
    {
      "cell_type": "markdown",
      "metadata": {
        "id": "DJLpkypoUS29",
        "colab_type": "text"
      },
      "source": [
        "리스트에 포함된 요소 x 개수 세기 (count)"
      ]
    },
    {
      "cell_type": "code",
      "metadata": {
        "id": "8KZF8XrdUPr4",
        "colab_type": "code",
        "outputId": "776fe5c2-a89a-464f-a78c-c814265bb773",
        "colab": {
          "base_uri": "https://localhost:8080/",
          "height": 35
        }
      },
      "source": [
        "a = [1, 2, 3, 1]\n",
        "a.count(1)\n",
        "#1이 두개 임으로 2가 출력"
      ],
      "execution_count": 0,
      "outputs": [
        {
          "output_type": "execute_result",
          "data": {
            "text/plain": [
              "2"
            ]
          },
          "metadata": {
            "tags": []
          },
          "execution_count": 64
        }
      ]
    },
    {
      "cell_type": "markdown",
      "metadata": {
        "id": "H3M7tlk8UkKU",
        "colab_type": "text"
      },
      "source": [
        "리스트 확장(extend)"
      ]
    },
    {
      "cell_type": "code",
      "metadata": {
        "id": "u6utD27hUb52",
        "colab_type": "code",
        "outputId": "67830d73-5e15-4bf2-882f-1715c7f82013",
        "colab": {
          "base_uri": "https://localhost:8080/",
          "height": 35
        }
      },
      "source": [
        "a = [1, 2, 3]\n",
        "a.extend([4, 5])\n",
        "a\n"
      ],
      "execution_count": 0,
      "outputs": [
        {
          "output_type": "execute_result",
          "data": {
            "text/plain": [
              "[1, 2, 3, 4, 5]"
            ]
          },
          "metadata": {
            "tags": []
          },
          "execution_count": 66
        }
      ]
    },
    {
      "cell_type": "code",
      "metadata": {
        "id": "H4meUU9KUpan",
        "colab_type": "code",
        "outputId": "4a06141a-5570-4c01-c28f-17b030a9e7f1",
        "colab": {
          "base_uri": "https://localhost:8080/",
          "height": 35
        }
      },
      "source": [
        "a=[1,2,3]\n",
        "a+[4,5]"
      ],
      "execution_count": 0,
      "outputs": [
        {
          "output_type": "execute_result",
          "data": {
            "text/plain": [
              "[1, 2, 3, 4, 5]"
            ]
          },
          "metadata": {
            "tags": []
          },
          "execution_count": 67
        }
      ]
    },
    {
      "cell_type": "code",
      "metadata": {
        "id": "12nKA1hBUw0c",
        "colab_type": "code",
        "outputId": "e841944d-d636-4e15-a5f4-f0726b97917d",
        "colab": {
          "base_uri": "https://localhost:8080/",
          "height": 35
        }
      },
      "source": [
        "b = [6, 7]\n",
        "a.extend(b)\n",
        "a"
      ],
      "execution_count": 0,
      "outputs": [
        {
          "output_type": "execute_result",
          "data": {
            "text/plain": [
              "[1, 2, 3, 6, 7]"
            ]
          },
          "metadata": {
            "tags": []
          },
          "execution_count": 68
        }
      ]
    },
    {
      "cell_type": "code",
      "metadata": {
        "id": "uusOS8BZU2PD",
        "colab_type": "code",
        "colab": {}
      },
      "source": [
        ""
      ],
      "execution_count": 0,
      "outputs": []
    }
  ]
}