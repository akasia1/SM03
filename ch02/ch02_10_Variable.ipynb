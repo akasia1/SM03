{
  "nbformat": 4,
  "nbformat_minor": 0,
  "metadata": {
    "colab": {
      "name": "ch02_10_Variable.ipynb",
      "provenance": [],
      "include_colab_link": true
    },
    "kernelspec": {
      "name": "python3",
      "display_name": "Python 3"
    }
  },
  "cells": [
    {
      "cell_type": "markdown",
      "metadata": {
        "id": "view-in-github",
        "colab_type": "text"
      },
      "source": [
        "<a href=\"https://colab.research.google.com/github/akasia1/SM03/blob/master/ch02/ch02_10_Variable.ipynb\" target=\"_parent\"><img src=\"https://colab.research.google.com/assets/colab-badge.svg\" alt=\"Open In Colab\"/></a>"
      ]
    },
    {
      "cell_type": "markdown",
      "metadata": {
        "id": "_aBQQ09FioEZ",
        "colab_type": "text"
      },
      "source": [
        "#Variable 변수"
      ]
    },
    {
      "cell_type": "markdown",
      "metadata": {
        "id": "YAKsBgmyiust",
        "colab_type": "text"
      },
      "source": [
        "변수는 자료(값)을 저장하는 공간"
      ]
    },
    {
      "cell_type": "code",
      "metadata": {
        "id": "dXBNowL1imjW",
        "colab_type": "code",
        "outputId": "3f4c8d4d-7155-49eb-e92b-f6cb344f59cd",
        "colab": {
          "base_uri": "https://localhost:8080/",
          "height": 35
        }
      },
      "source": [
        "a=[1,2,3]\n",
        "id(a)"
      ],
      "execution_count": 0,
      "outputs": [
        {
          "output_type": "execute_result",
          "data": {
            "text/plain": [
              "140478921870600"
            ]
          },
          "metadata": {
            "tags": []
          },
          "execution_count": 1
        }
      ]
    },
    {
      "cell_type": "code",
      "metadata": {
        "id": "lsKZyDkwi5jH",
        "colab_type": "code",
        "outputId": "131a4e47-66b7-4d3e-d87d-c0b615a26207",
        "colab": {
          "base_uri": "https://localhost:8080/",
          "height": 35
        }
      },
      "source": [
        "a = [1, 2, 3]\n",
        "id(a)\n",
        "b = a\n",
        "a[1] = 4\n",
        "id(a), id(b),a is b,a, b"
      ],
      "execution_count": 0,
      "outputs": [
        {
          "output_type": "execute_result",
          "data": {
            "text/plain": [
              "(140478921926984, 140478921926984, True, [1, 4, 3], [1, 4, 3])"
            ]
          },
          "metadata": {
            "tags": []
          },
          "execution_count": 7
        }
      ]
    },
    {
      "cell_type": "code",
      "metadata": {
        "id": "YYX6YdTTkzbQ",
        "colab_type": "code",
        "outputId": "eaad91a3-4882-4fbb-97d5-2f0e24c59d89",
        "colab": {
          "base_uri": "https://localhost:8080/",
          "height": 35
        }
      },
      "source": [
        "b = [1, 2, 3]\n",
        "id(b)"
      ],
      "execution_count": 0,
      "outputs": [
        {
          "output_type": "execute_result",
          "data": {
            "text/plain": [
              "140478913124040"
            ]
          },
          "metadata": {
            "tags": []
          },
          "execution_count": 8
        }
      ]
    },
    {
      "cell_type": "code",
      "metadata": {
        "id": "RU0THK3qk4EA",
        "colab_type": "code",
        "outputId": "85e0a012-6b43-47a7-d89a-9d726a6d8cc9",
        "colab": {
          "base_uri": "https://localhost:8080/",
          "height": 35
        }
      },
      "source": [
        "a is b"
      ],
      "execution_count": 0,
      "outputs": [
        {
          "output_type": "execute_result",
          "data": {
            "text/plain": [
              "False"
            ]
          },
          "metadata": {
            "tags": []
          },
          "execution_count": 9
        }
      ]
    },
    {
      "cell_type": "markdown",
      "metadata": {
        "id": "5-nGUWXsmEDx",
        "colab_type": "text"
      },
      "source": [
        "b 변수를 생성할 때 a 변수의 값을 가져오면서\n",
        "a와는 다른 주소를 가리키도록 만들수는 없을까?\n",
        "다음 2가지 방법이 있다."
      ]
    },
    {
      "cell_type": "markdown",
      "metadata": {
        "id": "AZr5QAv1mIGG",
        "colab_type": "text"
      },
      "source": [
        "1. [:] 이용"
      ]
    },
    {
      "cell_type": "code",
      "metadata": {
        "id": "xuAbjaW2k6Vd",
        "colab_type": "code",
        "outputId": "d74fbd09-4176-4292-877d-6a3e8d832374",
        "colab": {
          "base_uri": "https://localhost:8080/",
          "height": 35
        }
      },
      "source": [
        "a = [1, 2, 3]\n",
        "b = a[:]\n",
        "a[1] = 4\n",
        "a, b"
      ],
      "execution_count": 0,
      "outputs": [
        {
          "output_type": "execute_result",
          "data": {
            "text/plain": [
              "([1, 4, 3], [1, 2, 3])"
            ]
          },
          "metadata": {
            "tags": []
          },
          "execution_count": 10
        }
      ]
    },
    {
      "cell_type": "markdown",
      "metadata": {
        "id": "Jj8vz9fnmOBT",
        "colab_type": "text"
      },
      "source": [
        "2. copy 모듈 이용"
      ]
    },
    {
      "cell_type": "code",
      "metadata": {
        "id": "XbcSaSMjmKtE",
        "colab_type": "code",
        "outputId": "8f58834f-9ac6-4ff7-fcb3-089d723f5383",
        "colab": {
          "base_uri": "https://localhost:8080/",
          "height": 136
        }
      },
      "source": [
        "\n",
        "a = [1, 2, 3]\n",
        "import copy\n",
        "# from copy import copy\n",
        "b = copy(a)\n"
      ],
      "execution_count": 0,
      "outputs": [
        {
          "output_type": "error",
          "ename": "SyntaxError",
          "evalue": "ignored",
          "traceback": [
            "\u001b[0;36m  File \u001b[0;32m\"<ipython-input-12-478e9e352ce1>\"\u001b[0;36m, line \u001b[0;32m3\u001b[0m\n\u001b[0;31m    import copy()\u001b[0m\n\u001b[0m               ^\u001b[0m\n\u001b[0;31mSyntaxError\u001b[0m\u001b[0;31m:\u001b[0m invalid syntax\n"
          ]
        }
      ]
    },
    {
      "cell_type": "markdown",
      "metadata": {
        "id": "QzCVVV9-m1_i",
        "colab_type": "text"
      },
      "source": [
        "변수를 만드는 여러 가지 방법"
      ]
    },
    {
      "cell_type": "code",
      "metadata": {
        "id": "55gDYourmSE9",
        "colab_type": "code",
        "outputId": "7f4368da-494a-4650-80e0-dbb74768532e",
        "colab": {
          "base_uri": "https://localhost:8080/",
          "height": 35
        }
      },
      "source": [
        "a, b = (\"python\", \"life\")\n",
        "\n",
        "\n",
        "a, b"
      ],
      "execution_count": 0,
      "outputs": [
        {
          "output_type": "execute_result",
          "data": {
            "text/plain": [
              "('python', 'life')"
            ]
          },
          "metadata": {
            "tags": []
          },
          "execution_count": 13
        }
      ]
    },
    {
      "cell_type": "code",
      "metadata": {
        "id": "VotuBsybm8si",
        "colab_type": "code",
        "outputId": "7a970c95-d2c9-46bf-b415-aae2a7c65d5a",
        "colab": {
          "base_uri": "https://localhost:8080/",
          "height": 35
        }
      },
      "source": [
        "a"
      ],
      "execution_count": 0,
      "outputs": [
        {
          "output_type": "execute_result",
          "data": {
            "text/plain": [
              "'python'"
            ]
          },
          "metadata": {
            "tags": []
          },
          "execution_count": 14
        }
      ]
    },
    {
      "cell_type": "code",
      "metadata": {
        "id": "5gC76AiAm_7C",
        "colab_type": "code",
        "outputId": "a3fdda1c-a3cb-4575-995d-6a3125cd7d93",
        "colab": {
          "base_uri": "https://localhost:8080/",
          "height": 35
        }
      },
      "source": [
        "b"
      ],
      "execution_count": 0,
      "outputs": [
        {
          "output_type": "execute_result",
          "data": {
            "text/plain": [
              "'life'"
            ]
          },
          "metadata": {
            "tags": []
          },
          "execution_count": 15
        }
      ]
    },
    {
      "cell_type": "code",
      "metadata": {
        "id": "sXnn6YeWnBez",
        "colab_type": "code",
        "outputId": "009733e5-93ac-4c19-fde9-89eb91bef17f",
        "colab": {
          "base_uri": "https://localhost:8080/",
          "height": 35
        }
      },
      "source": [
        "[a, b] = [\"python\", \"life\"]\n",
        "a"
      ],
      "execution_count": 0,
      "outputs": [
        {
          "output_type": "execute_result",
          "data": {
            "text/plain": [
              "'python'"
            ]
          },
          "metadata": {
            "tags": []
          },
          "execution_count": 16
        }
      ]
    },
    {
      "cell_type": "code",
      "metadata": {
        "id": "Yf1WVZ-mnFVb",
        "colab_type": "code",
        "outputId": "f8e47a7e-6aee-4ac4-9281-735891c9ef51",
        "colab": {
          "base_uri": "https://localhost:8080/",
          "height": 35
        }
      },
      "source": [
        "b"
      ],
      "execution_count": 0,
      "outputs": [
        {
          "output_type": "execute_result",
          "data": {
            "text/plain": [
              "'life'"
            ]
          },
          "metadata": {
            "tags": []
          },
          "execution_count": 17
        }
      ]
    },
    {
      "cell_type": "code",
      "metadata": {
        "id": "2hXdS0hAnGFA",
        "colab_type": "code",
        "outputId": "a35ca4a6-9943-4f9a-a454-dc98315b0137",
        "colab": {
          "base_uri": "https://localhost:8080/",
          "height": 35
        }
      },
      "source": [
        "a = 3\n",
        "b = 5\n",
        "a, b = b, a\n",
        "a"
      ],
      "execution_count": 0,
      "outputs": [
        {
          "output_type": "execute_result",
          "data": {
            "text/plain": [
              "5"
            ]
          },
          "metadata": {
            "tags": []
          },
          "execution_count": 18
        }
      ]
    },
    {
      "cell_type": "code",
      "metadata": {
        "id": "nHOPfmRQnI9t",
        "colab_type": "code",
        "outputId": "42d5da83-100d-4d34-cd21-f9c7165c6ef8",
        "colab": {
          "base_uri": "https://localhost:8080/",
          "height": 35
        }
      },
      "source": [
        "b\n"
      ],
      "execution_count": 0,
      "outputs": [
        {
          "output_type": "execute_result",
          "data": {
            "text/plain": [
              "3"
            ]
          },
          "metadata": {
            "tags": []
          },
          "execution_count": 19
        }
      ]
    },
    {
      "cell_type": "code",
      "metadata": {
        "id": "VYDz2M-KnLPm",
        "colab_type": "code",
        "colab": {}
      },
      "source": [
        ""
      ],
      "execution_count": 0,
      "outputs": []
    }
  ]
}